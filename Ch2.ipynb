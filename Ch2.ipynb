{
 "cells": [
  {
   "cell_type": "markdown",
   "metadata": {},
   "source": [
    "# 2 A Proper Class"
   ]
  },
  {
   "cell_type": "markdown",
   "metadata": {},
   "source": [
    "## 2.1 Writing a Proper Python Class"
   ]
  },
  {
   "cell_type": "markdown",
   "metadata": {},
   "source": [
    "Aspects of designing a class: \n",
    "* doctring to provide some level of documentation on how to use the class\n",
    "* `__str__` method to give it a meaningful string representation\n",
    "* `__repr__` method for representation in the interactive shell, the debugger, and other cases where string conversion does not happen\n",
    "* Each class should be comparable so it can be sorted and meaning fully compared with other instances. At a minimum this means implementing `__eq__` and `__lt__`\n",
    "* You should think about access control each instance variable. Which attributes do you want to make read only, and which attributes do you want to control or do value checking on before you allow them to be changed. \n",
    "\n",
    "If the class is a container for other classes then there are some further considerations: \n",
    "* You should be able to find out how many things the container holds using `len`\n",
    "* You should be able to iterate over the items in the container. \n",
    "* You may want to allow users to access the items in the container using the squre bracket index notation"
   ]
  },
  {
   "cell_type": "markdown",
   "metadata": {},
   "source": [
    "### 2.1.1 A Basic implementation of the MSDie class"
   ]
  },
  {
   "cell_type": "code",
   "execution_count": 1,
   "metadata": {},
   "outputs": [
    {
     "name": "stdout",
     "output_type": "stream",
     "text": [
      "<__main__.MSDie object at 0x000001B09D513198> 2\n",
      "<__main__.MSDie object at 0x000001B09D513198> 4\n",
      "<__main__.MSDie object at 0x000001B09D513198> 1\n",
      "<__main__.MSDie object at 0x000001B09D513198> 1\n",
      "<__main__.MSDie object at 0x000001B09D513198> 4\n",
      "[<__main__.MSDie object at 0x000001B09D5135C0>, <__main__.MSDie object at 0x000001B09B30C6A0>]\n"
     ]
    }
   ],
   "source": [
    "import random\n",
    "\n",
    "class MSDie: \n",
    "    \"\"\"\n",
    "    Multi-sided die\n",
    "    \n",
    "    Instance Variables: \n",
    "        current_value\n",
    "        num_sides\n",
    "        \n",
    "    \"\"\"\n",
    "    \n",
    "    def __init__(self, num_sides): \n",
    "        self.num_sides = num_sides\n",
    "        self.current_value = self.roll()\n",
    "        \n",
    "    def roll(self): \n",
    "        self.current_value = random.randrange(1, self.num_sides+1)\n",
    "        return self.current_value\n",
    "    \n",
    "my_die = MSDie(6)\n",
    "for i in range(5): \n",
    "    print(my_die, my_die.current_value)\n",
    "    my_die.roll()\n",
    "    \n",
    "d_list = [MSDie(6), MSDie(20)]\n",
    "print(d_list)"
   ]
  },
  {
   "cell_type": "markdown",
   "metadata": {},
   "source": [
    "Fix up the representation to make printing and interacting with the die a bit more convenient. For this, implement `__str__` and `__repr__` methods. "
   ]
  },
  {
   "cell_type": "code",
   "execution_count": 2,
   "metadata": {},
   "outputs": [
    {
     "name": "stdout",
     "output_type": "stream",
     "text": [
      "5\n",
      "4\n",
      "3\n",
      "5\n",
      "2\n",
      "[MSDie(6) : 3, MSDie(20) : 4]\n"
     ]
    }
   ],
   "source": [
    "import random\n",
    "\n",
    "class MSDie:\n",
    "    \"\"\"\n",
    "    Multi-sided die\n",
    "\n",
    "    Instance Variables:\n",
    "        current_value\n",
    "        num_sides\n",
    "\n",
    "    \"\"\"\n",
    "\n",
    "    def __init__(self, num_sides):\n",
    "        self.num_sides = num_sides\n",
    "        self.current_value = self.roll()\n",
    "\n",
    "    def roll(self):\n",
    "        self.current_value = random.randrange(1,self.num_sides+1)\n",
    "        return self.current_value\n",
    "\n",
    "    def __str__(self):\n",
    "        return str(self.current_value)\n",
    "\n",
    "    def __repr__(self):\n",
    "        return \"MSDie({}) : {}\".format(self.num_sides, self.current_value)\n",
    "\n",
    "\n",
    "my_die = MSDie(6)\n",
    "for i in range(5):\n",
    "    print(my_die)\n",
    "    my_die.roll()\n",
    "\n",
    "d_list = [MSDie(6), MSDie(20)]\n",
    "print(d_list)"
   ]
  }
 ],
 "metadata": {
  "kernelspec": {
   "display_name": "Python 3",
   "language": "python",
   "name": "python3"
  },
  "language_info": {
   "codemirror_mode": {
    "name": "ipython",
    "version": 3
   },
   "file_extension": ".py",
   "mimetype": "text/x-python",
   "name": "python",
   "nbconvert_exporter": "python",
   "pygments_lexer": "ipython3",
   "version": "3.7.0"
  }
 },
 "nbformat": 4,
 "nbformat_minor": 2
}
