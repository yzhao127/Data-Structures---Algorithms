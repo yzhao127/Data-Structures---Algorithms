{
 "cells": [
  {
   "cell_type": "markdown",
   "metadata": {},
   "source": [
    "# 3 Analysis"
   ]
  },
  {
   "cell_type": "markdown",
   "metadata": {},
   "source": [
    "## 3.2 What is Algorithm Analysis"
   ]
  },
  {
   "cell_type": "markdown",
   "metadata": {},
   "source": [
    "Example: computing the sum of the first n integers. "
   ]
  },
  {
   "cell_type": "markdown",
   "metadata": {},
   "source": [
    "Code version 1: Good coding"
   ]
  },
  {
   "cell_type": "code",
   "execution_count": 4,
   "metadata": {},
   "outputs": [
    {
     "name": "stdout",
     "output_type": "stream",
     "text": [
      "55\n"
     ]
    }
   ],
   "source": [
    "def sumOfN(n): \n",
    "    theSum = 0\n",
    "    for i in range(1, n+1): \n",
    "        theSum = theSum + i\n",
    "    \n",
    "    return theSum\n",
    "\n",
    "print(sumOfN(10))"
   ]
  },
  {
   "cell_type": "markdown",
   "metadata": {},
   "source": [
    "Code version 2: Bad coding\n",
    "* Readability"
   ]
  },
  {
   "cell_type": "code",
   "execution_count": 5,
   "metadata": {},
   "outputs": [
    {
     "name": "stdout",
     "output_type": "stream",
     "text": [
      "55\n"
     ]
    }
   ],
   "source": [
    "def foo(tom):\n",
    "    fred = 0\n",
    "    for bill in range(1,tom+1):\n",
    "       barney = bill\n",
    "       fred = fred + barney\n",
    "\n",
    "    return fred\n",
    "\n",
    "print(foo(10))"
   ]
  },
  {
   "cell_type": "markdown",
   "metadata": {},
   "source": [
    "2 ways to evaluate a code: \n",
    "1. Space or memory\n",
    "2. Execution time or running time"
   ]
  },
  {
   "cell_type": "code",
   "execution_count": 3,
   "metadata": {},
   "outputs": [],
   "source": [
    "# Calculating the running time\n",
    "import time\n",
    "\n",
    "def sumOfN2(n):\n",
    "   start = time.time()\n",
    "\n",
    "   theSum = 0\n",
    "   for i in range(1,n+1):\n",
    "      theSum = theSum + i\n",
    "\n",
    "   end = time.time()\n",
    "\n",
    "   return theSum,end-start"
   ]
  },
  {
   "cell_type": "markdown",
   "metadata": {},
   "source": [
    "Benchmark test. "
   ]
  },
  {
   "cell_type": "code",
   "execution_count": 8,
   "metadata": {},
   "outputs": [
    {
     "name": "stdout",
     "output_type": "stream",
     "text": [
      "Sum is 50005000 required  0.0000000 seconds\n",
      "Sum is 50005000 required  0.0000000 seconds\n",
      "Sum is 50005000 required  0.0042450 seconds\n",
      "Sum is 50005000 required  0.0013299 seconds\n",
      "Sum is 50005000 required  0.0009162 seconds\n"
     ]
    }
   ],
   "source": [
    "for i in range(5): \n",
    "    print(\"Sum is %d required %10.7f seconds\"%sumOfN2(10000))"
   ]
  },
  {
   "cell_type": "markdown",
   "metadata": {},
   "source": [
    "The time required for each run, although longer, is very consistent, averaging about 10 times more seconds. For n equal to 1,000,000 we get:"
   ]
  },
  {
   "cell_type": "code",
   "execution_count": 10,
   "metadata": {},
   "outputs": [
    {
     "name": "stdout",
     "output_type": "stream",
     "text": [
      "Sum is 500000500000 required  0.1710095 seconds\n",
      "Sum is 500000500000 required  0.1604490 seconds\n",
      "Sum is 500000500000 required  0.1795349 seconds\n",
      "Sum is 500000500000 required  0.1305416 seconds\n",
      "Sum is 500000500000 required  0.1325998 seconds\n"
     ]
    }
   ],
   "source": [
    "for i in range(5):\n",
    "    print(\"Sum is %d required %10.7f seconds\"%sumOfN2(1000000))"
   ]
  },
  {
   "cell_type": "markdown",
   "metadata": {},
   "source": [
    "Code version 3: using formula"
   ]
  },
  {
   "cell_type": "code",
   "execution_count": 11,
   "metadata": {},
   "outputs": [
    {
     "name": "stdout",
     "output_type": "stream",
     "text": [
      "55.0\n"
     ]
    }
   ],
   "source": [
    "def sumOfN3(n):\n",
    "   return (n*(n+1))/2\n",
    "\n",
    "print(sumOfN3(10))"
   ]
  },
  {
   "cell_type": "markdown",
   "metadata": {},
   "source": [
    "* The times recorded above are shorter than any of the previous examples\n",
    "* They are very consistent no matter what the value of `n`. It appears that `sumOfN3` is hardly impacted by the number of integers being added."
   ]
  },
  {
   "cell_type": "markdown",
   "metadata": {},
   "source": [
    "### 3.3 Big-O Notation"
   ]
  },
  {
   "cell_type": "markdown",
   "metadata": {},
   "source": [
    "* The order of magnitude function describes the part of T(n) that increases the fastest as the value of n increases. Order of magnitude is called `Big-O` notation and written as $O(f(n))$. An approximation to the actual number of steps in the computation. $f(n)$ is a simple representation of the dominant part of the original $T(n)$. \n",
    "* Worst case, average case\n",
    "* Common order of magnitude functions\n",
    "    - $n$: linear\n",
    "    - $nlogn$: log linear\n",
    "    - $n^2$: quadratic\n",
    "    - $n^3$: cubic\n",
    "    - $2^n$: exponential"
   ]
  },
  {
   "cell_type": "markdown",
   "metadata": {},
   "source": [
    "Self Check: find the minimum number in a list. 1) $O(n^2)$; 2) $O(n)$"
   ]
  },
  {
   "cell_type": "code",
   "execution_count": 1,
   "metadata": {},
   "outputs": [],
   "source": [
    "def findMin_n(num_list): \n",
    "    min_num = num_list[0]\n",
    "    for i in num_list: \n",
    "        if i < min_num: \n",
    "            min_num = i\n",
    "    \n",
    "    return min_num"
   ]
  },
  {
   "cell_type": "code",
   "execution_count": 2,
   "metadata": {},
   "outputs": [],
   "source": [
    "def findMin_n2(num_list): \n",
    "    overallmin = num_list[0]\n",
    "    for i in num_list: \n",
    "        issmallest = True\n",
    "        for j in num_list: \n",
    "            if i > j: \n",
    "                issmallest = False\n",
    "        if issmallest: \n",
    "            overallmin = i\n",
    "    return overallmin"
   ]
  },
  {
   "cell_type": "code",
   "execution_count": 3,
   "metadata": {},
   "outputs": [],
   "source": [
    "import time\n",
    "from random import randrange"
   ]
  },
  {
   "cell_type": "code",
   "execution_count": 6,
   "metadata": {},
   "outputs": [
    {
     "name": "stdout",
     "output_type": "stream",
     "text": [
      "145\n",
      "size: 1000 time: 0.074396\n",
      "23\n",
      "size: 2000 time: 0.361127\n",
      "14\n",
      "size: 3000 time: 0.821470\n",
      "18\n",
      "size: 4000 time: 1.421663\n",
      "5\n",
      "size: 5000 time: 2.262417\n",
      "10\n",
      "size: 6000 time: 3.210286\n",
      "20\n",
      "size: 7000 time: 4.378021\n",
      "1\n",
      "size: 8000 time: 5.660144\n",
      "7\n",
      "size: 9000 time: 7.377593\n",
      "13\n",
      "size: 10000 time: 9.004905\n"
     ]
    }
   ],
   "source": [
    "for listSize in range(1000, 10001, 1000): \n",
    "    num_list = [randrange(100000) for x in range(listSize)]\n",
    "    start = time.time()\n",
    "    print(findMin_n2(num_list))\n",
    "    end = time.time()\n",
    "    print(\"size: %d time: %f\" % (listSize, end-start))"
   ]
  },
  {
   "cell_type": "markdown",
   "metadata": {},
   "source": [
    "## 3.4 An Anagram Detection Example"
   ]
  },
  {
   "cell_type": "markdown",
   "metadata": {},
   "source": [
    "### 3.4.1 Solution 1: Checking Off"
   ]
  },
  {
   "cell_type": "code",
   "execution_count": 1,
   "metadata": {},
   "outputs": [
    {
     "name": "stdout",
     "output_type": "stream",
     "text": [
      "True\n"
     ]
    }
   ],
   "source": [
    "def anagramSolution1(s1, s2): \n",
    "    stillOK = True\n",
    "    if len(s1) != len(s2): # length of s1 and s2 are equal or not\n",
    "        stillOK = False\n",
    "    \n",
    "    alist = list(s2) # change s2 from string to list\n",
    "    pos1 = 0\n",
    "    \n",
    "    while pos1 < len(s1) and stillOK: \n",
    "        pos2 = 0\n",
    "        found = False\n",
    "        while pos2 < len(alist) and not found: # traverse each character in s2 untill find the same character\n",
    "            if s1[pos1] == alist[pos2]: \n",
    "                found = True\n",
    "            else: \n",
    "                pos2 = pos2 + 1\n",
    "        \n",
    "        if found: # if find the character in s2, remove that character\n",
    "            alist[pos2] = None\n",
    "        else: \n",
    "            stillOK = False # if not find, this is not anagram\n",
    "        \n",
    "        pos1 = pos1 + 1\n",
    "        \n",
    "        return stillOK\n",
    "    \n",
    "print(anagramSolution1('abcd', 'dcba'))"
   ]
  },
  {
   "cell_type": "markdown",
   "metadata": {},
   "source": [
    "In `s2`, each of the n positions in the list will be visited once to match a character from `s1`. The number of visits then becomes the sum of the integers from 1 to n. The total visits are: $1/2*n^2 + 1/2*n$. The order of magnitude is $O(n^2)$. "
   ]
  },
  {
   "cell_type": "markdown",
   "metadata": {},
   "source": [
    "### 3.4.2 Solution 2: Sort and Compare"
   ]
  },
  {
   "cell_type": "code",
   "execution_count": 2,
   "metadata": {},
   "outputs": [
    {
     "name": "stdout",
     "output_type": "stream",
     "text": [
      "True\n"
     ]
    }
   ],
   "source": [
    "def anagramSolution2(s1, s2): \n",
    "    alist1 = list(s1)\n",
    "    alist2 = list(s2)\n",
    "    \n",
    "    alist1.sort() # sort each string by alphabet\n",
    "    alist2.sort()\n",
    "    \n",
    "    pos = 0\n",
    "    matches = True\n",
    "    \n",
    "    while pos < len(s1) and matches: # compare each character in two strings\n",
    "        if alist1[pos] == alist2[pos]: \n",
    "            pos = pos + 1\n",
    "        else: \n",
    "            matches = False\n",
    "    \n",
    "    return matches\n",
    "\n",
    "print(anagramSolution2('abcde', 'edcba'))"
   ]
  },
  {
   "cell_type": "markdown",
   "metadata": {},
   "source": [
    "The order of magnitude: \n",
    "* Sorting: $O(n^2) or O(nlogn)$\n",
    "* Iteration: $O(n)$\n",
    "The algorithm will have the same order of magnitude as that of teh sorting process. "
   ]
  },
  {
   "cell_type": "markdown",
   "metadata": {},
   "source": [
    "### 3.4.3 Solution 3: Brute Force"
   ]
  },
  {
   "cell_type": "markdown",
   "metadata": {},
   "source": [
    "Generate a list of all possible strings using the characters from `s1` and then see if `s2` occurs. The big O should be $O(n!)$. "
   ]
  },
  {
   "cell_type": "markdown",
   "metadata": {},
   "source": [
    "### 3.4.4 Solution 4: Count and Compare"
   ]
  },
  {
   "cell_type": "markdown",
   "metadata": {},
   "source": [
    "Count the number of times each character occurs. "
   ]
  },
  {
   "cell_type": "code",
   "execution_count": 3,
   "metadata": {},
   "outputs": [
    {
     "name": "stdout",
     "output_type": "stream",
     "text": [
      "True\n"
     ]
    }
   ],
   "source": [
    "def anagramSolution4(s1, s2): \n",
    "    c1 = [0]*26 # a list to store the number of each character count; 26 characters\n",
    "    c2 = [0]*26\n",
    "    \n",
    "    for i in range(len(s1)):\n",
    "        pos = ord(s1[i])-ord('a')\n",
    "        c1[pos] = c1[pos] + 1 # store the character count in the character position\n",
    "        \n",
    "    for i in range(len(s2)): \n",
    "        pos = ord(s2[i])-ord('a')\n",
    "        c2[pos] = c2[pos] + 1\n",
    "        \n",
    "    j = 0\n",
    "    stillOK = True\n",
    "    while j<26 and stillOK: # compare\n",
    "        if c1[j] == c2[j]:\n",
    "            j = j+1\n",
    "        else: \n",
    "            stillOK = False\n",
    "    \n",
    "    return stillOK\n",
    "\n",
    "print(anagramSolution4('apple', 'pleap'))"
   ]
  },
  {
   "cell_type": "markdown",
   "metadata": {},
   "source": [
    "$O(n)$"
   ]
  },
  {
   "cell_type": "markdown",
   "metadata": {},
   "source": [
    "Space requirements: although the last solution was able to run in linear time, it could only do so by using additional storage to keep the two lists of character counts. This algorithm sacrificed space in order to gain time. "
   ]
  },
  {
   "cell_type": "markdown",
   "metadata": {},
   "source": [
    "## 3.6 Lists"
   ]
  },
  {
   "cell_type": "markdown",
   "metadata": {},
   "source": [
    "Operations about list data structure\n",
    "* Common operations: \n",
    "    - Indexing: $O(1)$\n",
    "    - Assigning to an index position: $O(1)$\n",
    "    - Graw a list: \n",
    "        - Append method: $O(1)$\n",
    "        - Concatenation operator: $O(k)$ where k is the size of the list that is being concatenated. "
   ]
  },
  {
   "cell_type": "markdown",
   "metadata": {},
   "source": [
    "4 ways generate a list of n numbers starting with 0. \n",
    "1. `for` loop and create the list by concatenation\n",
    "2. Use append rather than conactenation\n",
    "3. List comprehension\n",
    "4. Range function wrapped by a call to the list constructor"
   ]
  },
  {
   "cell_type": "code",
   "execution_count": 4,
   "metadata": {},
   "outputs": [],
   "source": [
    "def test1(): \n",
    "    l = []\n",
    "    for i in range(1000): \n",
    "        l = l + [i]\n",
    "        \n",
    "def test2():\n",
    "    l = []\n",
    "    for i in range(1000):\n",
    "        l.append(i)\n",
    "\n",
    "def test3():\n",
    "    l = [i for i in range(1000)]\n",
    "\n",
    "def test4(): # fastest\n",
    "    l = list(range(1000))"
   ]
  },
  {
   "cell_type": "code",
   "execution_count": 17,
   "metadata": {},
   "outputs": [
    {
     "name": "stdout",
     "output_type": "stream",
     "text": [
      "concat  2.8032635999988997 milliseconds\n",
      "append  0.21528859999671113 milliseconds\n",
      "comprehension  0.07846360000257846 milliseconds\n",
      "list range  0.03602159999718424 milliseconds\n"
     ]
    }
   ],
   "source": [
    "t1 = timeit.Timer(\"test1()\", \"from __main__ import test1\")\n",
    "print(\"concat \",t1.timeit(number=1000), \"milliseconds\")\n",
    "t2 = timeit.Timer(\"test2()\", \"from __main__ import test2\")\n",
    "print(\"append \",t2.timeit(number=1000), \"milliseconds\")\n",
    "t3 = timeit.Timer(\"test3()\", \"from __main__ import test3\")\n",
    "print(\"comprehension \",t3.timeit(number=1000), \"milliseconds\")\n",
    "t4 = timeit.Timer(\"test4()\", \"from __main__ import test4\")\n",
    "print(\"list range \",t4.timeit(number=1000), \"milliseconds\")"
   ]
  },
  {
   "cell_type": "markdown",
   "metadata": {},
   "source": [
    "Pop: \n",
    "* When `pop` is called on the end of the list: $O(1)$; when an item is taken from the front of the list, all the other elements in the list are shifted one position closer to the beginning\n",
    "* When `pop` is called on the first element in the list or anywhere in the middle: $O(n)$\n",
    "* A tradeoff, this allows the index operation to be $O(1)$. "
   ]
  },
  {
   "cell_type": "code",
   "execution_count": 18,
   "metadata": {},
   "outputs": [
    {
     "data": {
      "text/plain": [
       "2.0220889000047464"
      ]
     },
     "execution_count": 18,
     "metadata": {},
     "output_type": "execute_result"
    }
   ],
   "source": [
    "popzero = timeit.Timer(\"x.pop(0)\", \"from __main__ import x\")\n",
    "popend = timeit.Timer(\"x.pop()\", \"from __main__ import x\")\n",
    "x = list(range(2000000))\n",
    "popzero.timeit(number=1000) # pop from first element"
   ]
  },
  {
   "cell_type": "code",
   "execution_count": 19,
   "metadata": {},
   "outputs": [
    {
     "data": {
      "text/plain": [
       "0.0005474000063259155"
      ]
     },
     "execution_count": 19,
     "metadata": {},
     "output_type": "execute_result"
    }
   ],
   "source": [
    "x = list(range(2000000))\n",
    "popend.timeit(number=1000) # pop from end"
   ]
  },
  {
   "cell_type": "code",
   "execution_count": null,
   "metadata": {},
   "outputs": [
    {
     "name": "stdout",
     "output_type": "stream",
     "text": [
      "pop(0)   pop()\n",
      "        0.81621,         0.00055\n",
      "        2.05446,         0.00055\n",
      "        3.23044,         0.00055\n",
      "        4.47749,         0.00055\n",
      "        5.68161,         0.00055\n",
      "        6.87505,         0.00019\n",
      "        8.18845,         0.00055\n",
      "        9.43216,         0.00020\n",
      "       10.48180,         0.00045\n",
      "       11.74134,         0.00014\n",
      "       12.89493,         0.00055\n",
      "       14.19992,         0.00094\n",
      "       15.33619,         0.00018\n",
      "       16.87301,         0.00045\n",
      "       18.50176,         0.00055\n",
      "       19.14578,         0.00054\n",
      "       20.33502,         0.00018\n",
      "       21.75371,         0.00018\n",
      "       22.93647,         0.00053\n",
      "       24.22348,         0.00018\n",
      "       24.96873,         0.00054\n",
      "       26.18895,         0.00055\n",
      "       27.14827,         0.00055\n"
     ]
    }
   ],
   "source": [
    "# test pop(0) is O(n) and pop() is O(1)\n",
    "popzero = timeit.Timer(\"x.pop(0)\",\n",
    "                \"from __main__ import x\")\n",
    "popend = timeit.Timer(\"x.pop()\",\n",
    "               \"from __main__ import x\")\n",
    "print(\"pop(0)   pop()\")\n",
    "for i in range(1000000,100000001,1000000):\n",
    "    x = list(range(i))\n",
    "    pt = popend.timeit(number=1000)\n",
    "    x = list(range(i))\n",
    "    pz = popzero.timeit(number=1000)\n",
    "    print(\"%15.5f, %15.5f\" %(pz,pt))"
   ]
  },
  {
   "cell_type": "markdown",
   "metadata": {},
   "source": [
    "## 3.7 Dictionaries"
   ]
  },
  {
   "cell_type": "markdown",
   "metadata": {},
   "source": [
    "Important operations: \n",
    "* Get and Set item: $O(1)$\n",
    "* Contains: checking to see whether a key is in the dictionary or not $O(1)$\n",
    "* The only dictionary operations that are not $O(1)$ are those that require iteration. \n",
    "\n",
    "**Note**: in some rare cases the contains, get item, and set item operations can degenerate into $O(n)$ performance"
   ]
  },
  {
   "cell_type": "markdown",
   "metadata": {},
   "source": [
    "Experiment: testing contains operator `in` for lists is $O(n)$, for dictionaries is $O(1)$. "
   ]
  },
  {
   "cell_type": "code",
   "execution_count": null,
   "metadata": {},
   "outputs": [
    {
     "name": "stdout",
     "output_type": "stream",
     "text": [
      "10000,     0.140,     0.003\n",
      "30000,     0.475,     0.003\n",
      "50000,     0.782,     0.003\n",
      "70000,     1.043,     0.004\n",
      "90000,     1.360,     0.003\n",
      "110000,     1.661,     0.004\n",
      "130000,     2.067,     0.003\n",
      "150000,     2.262,     0.005\n",
      "170000,     2.557,     0.003\n",
      "190000,     2.787,     0.003\n",
      "210000,     3.256,     0.004\n",
      "230000,     3.321,     0.003\n",
      "250000,     4.314,     0.004\n",
      "270000,     4.254,     0.004\n"
     ]
    }
   ],
   "source": [
    "import timeit\n",
    "import random\n",
    "\n",
    "for i in range(10000,1000001,20000):\n",
    "    t = timeit.Timer(\"random.randrange(%d) in x\"%i, # pick a number in random in range(i) and check if it is in the list\n",
    "                     \"from __main__ import random,x\")\n",
    "    x = list(range(i))\n",
    "    lst_time = t.timeit(number=1000)\n",
    "    x = {j:None for j in range(i)}\n",
    "    d_time = t.timeit(number=1000)\n",
    "    print(\"%d,%10.3f,%10.3f\" % (i, lst_time, d_time))"
   ]
  },
  {
   "cell_type": "markdown",
   "metadata": {},
   "source": [
    "**Self Checking**\n",
    "\n",
    "Q1\n",
    "\n",
    "List indexing: base + index\n",
    "\n",
    "List poping: move all remaining elements forward 1 unit"
   ]
  },
  {
   "cell_type": "markdown",
   "metadata": {},
   "source": [
    "## 3.10 Discussion Questions\n",
    "\n",
    "1. $O(n^2)$\n",
    "2. $O(n)$\n",
    "3. $O(log(n))$\n",
    "4. $O(n^3)$\n",
    "5. $O(n)$"
   ]
  },
  {
   "cell_type": "markdown",
   "metadata": {},
   "source": [
    "## 3.11 Programming Exercises"
   ]
  },
  {
   "cell_type": "markdown",
   "metadata": {},
   "source": [
    "Q4. Given a list of numbers in random order, write an algorithm that works in O(nlog(n)) to find the kth smallest number in the list."
   ]
  },
  {
   "cell_type": "code",
   "execution_count": 1,
   "metadata": {},
   "outputs": [
    {
     "data": {
      "text/plain": [
       "15"
      ]
     },
     "execution_count": 1,
     "metadata": {},
     "output_type": "execute_result"
    }
   ],
   "source": [
    "import random\n",
    "\n",
    "sample = random.sample(range(1, 50), 10)\n",
    "sample.sort()\n",
    "sample[3]"
   ]
  },
  {
   "cell_type": "markdown",
   "metadata": {},
   "source": [
    "Improve to be linear: Quick Sort; Heaps"
   ]
  },
  {
   "cell_type": "markdown",
   "metadata": {},
   "source": [
    "## Summary"
   ]
  },
  {
   "cell_type": "markdown",
   "metadata": {},
   "source": [
    "* Big-O Notation: the order of magnitude\n",
    "    - Time\n",
    "    - Space\n",
    "* Some Examples and Comparison\n",
    "    - List\n",
    "    - Dictionary"
   ]
  }
 ],
 "metadata": {
  "kernelspec": {
   "display_name": "Python 3",
   "language": "python",
   "name": "python3"
  },
  "language_info": {
   "codemirror_mode": {
    "name": "ipython",
    "version": 3
   },
   "file_extension": ".py",
   "mimetype": "text/x-python",
   "name": "python",
   "nbconvert_exporter": "python",
   "pygments_lexer": "ipython3",
   "version": "3.7.0"
  }
 },
 "nbformat": 4,
 "nbformat_minor": 2
}
