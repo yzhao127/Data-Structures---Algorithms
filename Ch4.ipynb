{
 "cells": [
  {
   "cell_type": "markdown",
   "metadata": {},
   "source": [
    "# 4 Basic Data Structures"
   ]
  },
  {
   "cell_type": "markdown",
   "metadata": {},
   "source": [
    "## 4.2 Linear Structures\n",
    "\n",
    "* Linear data structures: Stacks, queues, deques, lists\n",
    "* Items are ordered depending on how they are added or removed. \n",
    "* Two ends\n",
    "* Difference: the way in which items are added and removed"
   ]
  },
  {
   "cell_type": "markdown",
   "metadata": {},
   "source": [
    "## 4.3 Stack\n",
    "\n",
    "* An **Ordered** collection of items where the addition and removal takes place at the **same** end. \n",
    "* This end referred to as the **top**. The opposite end is **base**. \n",
    "* Ordering principle: **LIFO**, **last-in first-out**. The most recently added item is the one that is in position to be removed first. \n",
    "* Stacks can be used to reverse the order of items. "
   ]
  },
  {
   "cell_type": "markdown",
   "metadata": {},
   "source": [
    "## 4.4 Stack Abstract Data Type\n",
    "\n",
    "The stack operations are given below: \n",
    "* `Stack()`: creates a new empty stack. No parameters and returns empty stack. \n",
    "* `push(item)`: adds a new item to the top. Needs the item and returns nothing. \n",
    "* `pop()`: removes top item. Needs no parameters and returns the item. Stack is modified. \n",
    "* `peek()`: returns the top item from the stack but does not remove it. Needs no parameters. Stack is not modified. \n",
    "* `isEmpty()`: tests to see whether the stack is empty. Needs no parameters and returns a boolean value. \n",
    "* `size()`: returns the number of items on the stack. "
   ]
  },
  {
   "cell_type": "markdown",
   "metadata": {},
   "source": [
    "## 4.5 Implementing a Stack\n",
    "\n",
    "Using list to construct a Stack class. \n",
    "* Assumes that the end of the list is the top element of the stack. \n",
    "* `push`: add new items on the end of the list. \n",
    "* `pop`: remove from end of the list. "
   ]
  },
  {
   "cell_type": "code",
   "execution_count": 1,
   "metadata": {},
   "outputs": [],
   "source": [
    "class Stack: \n",
    "    def __init__(self): \n",
    "        self.items = []\n",
    "    \n",
    "    def isEmpty(self): \n",
    "        return self.items == []\n",
    "    \n",
    "    def push(self, item): \n",
    "        return self.items.append(item)\n",
    "    \n",
    "    def pop(self): \n",
    "        return self.items.pop()\n",
    "    \n",
    "    def peek(self): \n",
    "        return self.items[len(self.items)-1]\n",
    "    \n",
    "    def size(self): \n",
    "        return len(self.items)"
   ]
  },
  {
   "cell_type": "markdown",
   "metadata": {},
   "source": [
    "Notice that the definition of the `Stack` class is imported from the `pythonds` module, which contains implementations of all data structures: basic, tress and graphs. "
   ]
  },
  {
   "cell_type": "code",
   "execution_count": 6,
   "metadata": {},
   "outputs": [
    {
     "name": "stdout",
     "output_type": "stream",
     "text": [
      "True\n"
     ]
    }
   ],
   "source": [
    "from pythonds.basic import Stack\n",
    "\n",
    "s = Stack()\n",
    "\n",
    "print(s.isEmpty())"
   ]
  },
  {
   "cell_type": "code",
   "execution_count": 7,
   "metadata": {},
   "outputs": [],
   "source": [
    "s.push(4)"
   ]
  },
  {
   "cell_type": "code",
   "execution_count": 8,
   "metadata": {},
   "outputs": [],
   "source": [
    "s.push('dog')"
   ]
  },
  {
   "cell_type": "code",
   "execution_count": 9,
   "metadata": {},
   "outputs": [
    {
     "name": "stdout",
     "output_type": "stream",
     "text": [
      "dog\n"
     ]
    }
   ],
   "source": [
    "print(s.peek())"
   ]
  },
  {
   "cell_type": "code",
   "execution_count": 10,
   "metadata": {},
   "outputs": [],
   "source": [
    "s.push(True)"
   ]
  },
  {
   "cell_type": "code",
   "execution_count": 11,
   "metadata": {},
   "outputs": [
    {
     "name": "stdout",
     "output_type": "stream",
     "text": [
      "3\n"
     ]
    }
   ],
   "source": [
    "print(s.size())"
   ]
  },
  {
   "cell_type": "code",
   "execution_count": 12,
   "metadata": {},
   "outputs": [
    {
     "name": "stdout",
     "output_type": "stream",
     "text": [
      "False\n"
     ]
    }
   ],
   "source": [
    "print(s.isEmpty())"
   ]
  },
  {
   "cell_type": "code",
   "execution_count": 13,
   "metadata": {},
   "outputs": [],
   "source": [
    "s.push(8.4)"
   ]
  },
  {
   "cell_type": "code",
   "execution_count": 14,
   "metadata": {},
   "outputs": [
    {
     "name": "stdout",
     "output_type": "stream",
     "text": [
      "8.4\n"
     ]
    }
   ],
   "source": [
    "print(s.pop())"
   ]
  },
  {
   "cell_type": "code",
   "execution_count": 15,
   "metadata": {},
   "outputs": [
    {
     "name": "stdout",
     "output_type": "stream",
     "text": [
      "True\n"
     ]
    }
   ],
   "source": [
    "print(s.pop())"
   ]
  },
  {
   "cell_type": "code",
   "execution_count": 16,
   "metadata": {},
   "outputs": [
    {
     "name": "stdout",
     "output_type": "stream",
     "text": [
      "2\n"
     ]
    }
   ],
   "source": [
    "print(s.size())"
   ]
  },
  {
   "cell_type": "markdown",
   "metadata": {},
   "source": [
    "Using a list where the top is at the beginning instead of at the end.\n",
    "* Index 0"
   ]
  },
  {
   "cell_type": "code",
   "execution_count": 17,
   "metadata": {},
   "outputs": [],
   "source": [
    "class Stack:\n",
    "    def __init__(self):\n",
    "        self.items = []\n",
    "\n",
    "    def isEmpty(self):\n",
    "        return self.items == []\n",
    "\n",
    "    def push(self, item):\n",
    "        self.items.insert(0,item)\n",
    "\n",
    "    def pop(self):\n",
    "        return self.items.pop(0)\n",
    "\n",
    "    def peek(self):\n",
    "        return self.items[0]\n",
    "    \n",
    "    def size(self):\n",
    "        return len(self.items)"
   ]
  },
  {
   "cell_type": "markdown",
   "metadata": {},
   "source": [
    "Performance of the two implementations: \n",
    "* `append` and `pop` are O(1)\n",
    "* `insert(0)` and `pop(0)` are O(n)"
   ]
  },
  {
   "cell_type": "markdown",
   "metadata": {},
   "source": [
    "**Self Check**\n",
    "\n",
    "Write a function *revstring(mystr)* that uses a stack to reverse the characters in a string. "
   ]
  },
  {
   "cell_type": "code",
   "execution_count": 22,
   "metadata": {},
   "outputs": [],
   "source": [
    "from pythonds.basic.stack import Stack\n",
    "\n",
    "def revstring(mystr): \n",
    "    s = Stack()\n",
    "    revstr = \"\"\n",
    "    \n",
    "    for i in mystr: \n",
    "        s.push(i)\n",
    "    \n",
    "    while not s.isEmpty(): \n",
    "        revstr = revstr+s.pop()\n",
    "    \n",
    "    return revstr"
   ]
  },
  {
   "cell_type": "code",
   "execution_count": 23,
   "metadata": {},
   "outputs": [
    {
     "name": "stdout",
     "output_type": "stream",
     "text": [
      "elppa\n"
     ]
    }
   ],
   "source": [
    "mystr = 'apple'\n",
    "revstr = revstring(mystr)\n",
    "print(revstr)"
   ]
  },
  {
   "cell_type": "markdown",
   "metadata": {},
   "source": [
    "## 4.6 Simple Balanced Parentheses"
   ]
  },
  {
   "cell_type": "markdown",
   "metadata": {},
   "source": [
    "* The most recent opening parenthesis must match the next closing symbol. \n",
    "* The first opening symbol processed may have to wait until the very last symbol for its match. \n",
    "* Closing symbols matchopening symbols in the reverse order of their appearance. "
   ]
  },
  {
   "cell_type": "markdown",
   "metadata": {},
   "source": [
    "Using stack: \n",
    "* Starting with an empty stack, process the parenthesis strings from left to right\n",
    "* If open, push to stack\n",
    "* If close, pop the stack\n",
    "* If possible to pop, parenthesis balanced\n",
    "* If not, not balanced\n",
    "* At the end, the stack should be empty"
   ]
  },
  {
   "cell_type": "code",
   "execution_count": 25,
   "metadata": {},
   "outputs": [
    {
     "name": "stdout",
     "output_type": "stream",
     "text": [
      "True\n",
      "False\n"
     ]
    }
   ],
   "source": [
    "from pythonds.basic import Stack\n",
    "\n",
    "def parChecker(symbolString): \n",
    "    s = Stack()\n",
    "    balanced = True\n",
    "    index = 0\n",
    "    while index < len(symbolString) and balanced: \n",
    "        if symbolString[index] == \"(\": \n",
    "            s.push(\"(\")\n",
    "        else: \n",
    "            if s.isEmpty(): \n",
    "                balanced = False\n",
    "            else: \n",
    "                s.pop()\n",
    "        \n",
    "        index = index+1\n",
    "    \n",
    "    if s.isEmpty() and balanced: \n",
    "        return True\n",
    "    else: \n",
    "        return False\n",
    "\n",
    "print(parChecker('((()))'))\n",
    "print(parChecker(')()('))"
   ]
  },
  {
   "cell_type": "markdown",
   "metadata": {},
   "source": [
    "## 4.7 Balanced Symbols (A General Case)"
   ]
  },
  {
   "cell_type": "code",
   "execution_count": 5,
   "metadata": {},
   "outputs": [],
   "source": [
    "from pythonds.basic import Stack\n",
    "\n",
    "def parChecker(symbolString): \n",
    "    s = Stack()\n",
    "    balanced = True\n",
    "    index = 0\n",
    "    \n",
    "    while index < len(symbolString) and balanced: \n",
    "        symbol = symbolString[index]\n",
    "        if symbol in \"([{\": \n",
    "            s.push(symbol)\n",
    "        else: \n",
    "            if s.isEmpty(): \n",
    "                balanced = False\n",
    "            else:\n",
    "                top = s.pop()\n",
    "                balanced = False\n",
    "                if top == \"(\" and symbol == \")\": \n",
    "                    balanced = True\n",
    "                elif top == \"[\" and symbol == \"]\": \n",
    "                    balanced = True\n",
    "                elif top == \"{\" and symbol == \"}\": \n",
    "                    balanced = True\n",
    "        \n",
    "        index = index + 1\n",
    "    \n",
    "    if balanced and s.isEmpty(): \n",
    "        return True\n",
    "    else: \n",
    "        return False"
   ]
  },
  {
   "cell_type": "code",
   "execution_count": 6,
   "metadata": {},
   "outputs": [
    {
     "name": "stdout",
     "output_type": "stream",
     "text": [
      "True\n",
      "False\n"
     ]
    }
   ],
   "source": [
    "print(parChecker('{({([][])}())}'))\n",
    "print(parChecker('[{()]'))"
   ]
  },
  {
   "cell_type": "markdown",
   "metadata": {},
   "source": [
    "## 4.8 Converting Decimal Numbers to Binary Numbers"
   ]
  },
  {
   "cell_type": "markdown",
   "metadata": {},
   "source": [
    "**Divide by 2**\n",
    "* Start with an integer greater than 0. \n",
    "* Iteration, conitunually divides the decimal number by 2 and keeps track of the remainder: \n",
    "    - Even: remainder of 0 in the ones place\n",
    "    - Odd: remainder of 1 in the ones place\n",
    "* First remainder is the last digit in the sequence. "
   ]
  },
  {
   "cell_type": "code",
   "execution_count": 1,
   "metadata": {},
   "outputs": [
    {
     "name": "stdout",
     "output_type": "stream",
     "text": [
      "101010\n"
     ]
    }
   ],
   "source": [
    "from pythonds.basic import Stack\n",
    "\n",
    "def divideBy2(decNumber): \n",
    "    remstack = Stack()\n",
    "    \n",
    "    while decNumber > 0: \n",
    "        rem = decNumber % 2 # get remainder\n",
    "        remstack.push(rem) # store in a stack\n",
    "        decNumber = decNumber // 2 # start from next quotient\n",
    "        \n",
    "    binString = \"\" # Extract from stack and put into string\n",
    "    while not remstack.isEmpty(): \n",
    "        binString = binString + str(remstack.pop())\n",
    "        \n",
    "    return binString\n",
    "\n",
    "print(divideBy2(42))"
   ]
  },
  {
   "cell_type": "markdown",
   "metadata": {},
   "source": [
    "Encoding: \n",
    "* Binary\n",
    "* Octal (base 8)\n",
    "* Hexadecimal (base 16)"
   ]
  },
  {
   "cell_type": "code",
   "execution_count": 6,
   "metadata": {},
   "outputs": [
    {
     "name": "stdout",
     "output_type": "stream",
     "text": [
      "11001\n",
      "19\n"
     ]
    }
   ],
   "source": [
    "from pythonds.basic import Stack\n",
    "\n",
    "def baseConverter(decNumber, base): \n",
    "    digits = \"0123456789ABCDEFGHIJKLMNOPQRSTUVWXYZ\" # a list with all digits \n",
    "    \n",
    "    remstack = Stack()\n",
    "    \n",
    "    while decNumber > 0: \n",
    "        rem = decNumber % base\n",
    "        remstack.push(rem)\n",
    "        decNumber = decNumber // base\n",
    "        \n",
    "    newString = \"\"\n",
    "    while not remstack.isEmpty(): \n",
    "        newString = newString + digits[remstack.pop()] # index digits\n",
    "        \n",
    "    return newString\n",
    "\n",
    "print(baseConverter(25,2))\n",
    "print(baseConverter(25,16))"
   ]
  },
  {
   "cell_type": "code",
   "execution_count": 7,
   "metadata": {
    "scrolled": true
   },
   "outputs": [
    {
     "name": "stdout",
     "output_type": "stream",
     "text": [
      "10\n"
     ]
    }
   ],
   "source": [
    "print(baseConverter(26, 26))"
   ]
  },
  {
   "cell_type": "markdown",
   "metadata": {},
   "source": [
    "## 4.9 Infix, Prefix and Postfix Expressions"
   ]
  },
  {
   "cell_type": "markdown",
   "metadata": {},
   "source": [
    "**Infix**: the operator is in between the two operands. A+B*C\n",
    "* Each operator has a precedence level; the precedence oreder can be changed by parentheses. \n",
    "* From left to right. \n",
    "\n",
    "**Prefix**: Operators precede the two operands. +A*BC\n",
    "\n",
    "**Postfix**: Operators come after the corresponding operands. ABC*+: first * then +\n",
    "\n",
    "e.g. (A+B)*C\n",
    "* Prefix: *+ABC\n",
    "* Postfix: AB+C*"
   ]
  },
  {
   "cell_type": "markdown",
   "metadata": {},
   "source": [
    "### 4.9.2 General Indix-to-Postfix Conversion\n",
    "\n",
    "The following steps will produce a string of tokens in postfix order. \n",
    "1. Create an empty stack called `opstack` for keeping operators. Create an empty list for output. \n",
    "2. Convert the input indix string to a list by using the string method `split`. \n",
    "3. Scan the token list from left to right\n",
    "* Operand: append it to the end of the output list\n",
    "* Left parenthesis: push it on the `opstack`\n",
    "* Right parenthesis: pop the opstack until the corresponding left parenthesis is removed. Append each operator to the end of the output list. \n",
    "* Operator: push it on the `opstack`. However, first remove any operators already on the `opstack` that have higher or equal precedence and append them to the output list. \n",
    "4. When the input expression has been completely processed check the `opstack`. Any operators still on the stack can be removed and appended to the end of the output list. "
   ]
  },
  {
   "cell_type": "markdown",
   "metadata": {},
   "source": [
    "We use a dictionary called `prec` to hold the precedence values for the operators. This dictionary will map each operator to an integer that can be compared against the precedence levels of other operators. "
   ]
  },
  {
   "cell_type": "code",
   "execution_count": 26,
   "metadata": {},
   "outputs": [],
   "source": [
    "from pythonds.basic import Stack\n",
    "\n",
    "def infixToPostfix(infixexpr): \n",
    "    prec = {} # dictionary hold the precedence values for the operators\n",
    "    prec[\"**\"] = 4\n",
    "    prec[\"*\"] = 3\n",
    "    prec[\"/\"] = 3\n",
    "    prec[\"+\"] = 2\n",
    "    prec[\"-\"] = 2\n",
    "    prec[\"(\"] = 1\n",
    "    opStack = Stack() # operators stack\n",
    "    postfixList = [] # result list\n",
    "    tokenList = infixexpr.split() # split the equation\n",
    "    \n",
    "    for token in tokenList: \n",
    "        if token in \"ABCDEFGHIJKLMNOPQRSTUVWXYZ\" or token in \"0123456789\":\n",
    "            postfixList.append(token)\n",
    "        elif token == \"(\": # process equations in () first\n",
    "            opStack.push(token)\n",
    "        elif token == \")\": \n",
    "            topToken = opStack.pop()\n",
    "            while topToken != \"(\": \n",
    "                postfixList.append(topToken)\n",
    "                topToken = opStack.pop()  # pop all operators in opStack\n",
    "        else: \n",
    "            while (not opStack.isEmpty()) and (prec[opStack.peek()]>=prec[token]): \n",
    "                postfixList.append(opStack.pop()) # 优先级小的话，先把优先级大的pop出去\n",
    "            opStack.push(token)\n",
    "            \n",
    "    while not opStack.isEmpty(): \n",
    "        postfixList.append(opStack.pop())\n",
    "\n",
    "    return \"\".join(postfixList)"
   ]
  },
  {
   "cell_type": "code",
   "execution_count": 13,
   "metadata": {},
   "outputs": [
    {
     "name": "stdout",
     "output_type": "stream",
     "text": [
      "AB+C*DE-FG+*-\n"
     ]
    }
   ],
   "source": [
    "print(infixToPostfix(\"( A + B ) * C - ( D - E ) * ( F + G )\"))"
   ]
  },
  {
   "cell_type": "code",
   "execution_count": 27,
   "metadata": {},
   "outputs": [
    {
     "name": "stdout",
     "output_type": "stream",
     "text": [
      "5342-***\n"
     ]
    }
   ],
   "source": [
    "print(infixToPostfix(\"5 * 3 ** ( 4 - 2 )\"))"
   ]
  },
  {
   "cell_type": "markdown",
   "metadata": {},
   "source": [
    "### 4.9.3 Postfix Evaluation"
   ]
  },
  {
   "cell_type": "markdown",
   "metadata": {},
   "source": [
    "Run the postfix evaluation and get result: \n",
    "1. Create an empty stack called `operandStack`. \n",
    "2. Convert the string to a list by using the string method `split`. \n",
    "3. Scan the token list from left to right. \n",
    "* If the token is an operand, convert it from a string to an integer and push the value onto the `operandStack`. \n",
    "* If the token is an operator, *, /, +, or -, it will need two operands. "
   ]
  },
  {
   "cell_type": "code",
   "execution_count": 14,
   "metadata": {
    "scrolled": true
   },
   "outputs": [
    {
     "name": "stdout",
     "output_type": "stream",
     "text": [
      "3.0\n"
     ]
    }
   ],
   "source": [
    "from pythonds.basic import Stack\n",
    "\n",
    "def postfixEval(postfixExpr): \n",
    "    operandStack = Stack()\n",
    "    tokenList = postfixExpr.split()\n",
    "    \n",
    "    for token in tokenList: \n",
    "        if token in \"0123456789\": \n",
    "            operandStack.push(int(token))\n",
    "        else: \n",
    "            operand2 = operandStack.pop()\n",
    "            operand1 = operandStack.pop()\n",
    "            result = doMath(token, operand1, operand2)\n",
    "            operandStack.push(result)\n",
    "    return operandStack.pop()\n",
    "\n",
    "def doMath(op, op1, op2): \n",
    "    if op == \"*\": \n",
    "        return op1 * op2\n",
    "    elif op == \"/\": \n",
    "        return op1 / op2\n",
    "    elif op == \"+\": \n",
    "        return op1 + op2\n",
    "    else: \n",
    "        return op1 - op2\n",
    "\n",
    "print(postfixEval(\"7 8 + 3 2 + /\"))"
   ]
  },
  {
   "cell_type": "markdown",
   "metadata": {},
   "source": [
    "## 4.10 Queue"
   ]
  },
  {
   "cell_type": "markdown",
   "metadata": {},
   "source": [
    "* **Ordered** collection of items\n",
    "* Addition of new items happens at one end, called the \"rear\", and the removal of existing items occurs at the other end, called \"front\". \n",
    "* **FIFO**: first-in first-out"
   ]
  },
  {
   "cell_type": "markdown",
   "metadata": {},
   "source": [
    "## 4.11 Queue Abstract Data Type"
   ]
  },
  {
   "cell_type": "markdown",
   "metadata": {},
   "source": [
    "* `Queue()` creates a new queue\n",
    "* `enqueue(item)` adds a new item to the rear of the queue\n",
    "* `dequeue()` removes the front item from the queue\n",
    "* `isEmpty()` tests to see whether the queue is empty\n",
    "* `size()` returns the number of items in the queue"
   ]
  },
  {
   "cell_type": "markdown",
   "metadata": {},
   "source": [
    "## 4.12 Implementing a Queue in Python"
   ]
  },
  {
   "cell_type": "markdown",
   "metadata": {},
   "source": [
    "Using list to build a queue: \n",
    "* Rear: position 0 in the list; use `insert` function on lists to add new elements (enqueue); O(n)\n",
    "* Front: last position is front; use `pop` to remove the front element (dequeue); O(1)"
   ]
  },
  {
   "cell_type": "code",
   "execution_count": 28,
   "metadata": {},
   "outputs": [],
   "source": [
    "class Queue: \n",
    "    def __init__(self): \n",
    "        self.items = []\n",
    "        \n",
    "    def isEmpty(self): \n",
    "        return self.items == []\n",
    "    \n",
    "    def enqueue(self, item): \n",
    "        self.items.insert(0, item)\n",
    "        \n",
    "    def dequeue(self): \n",
    "        return self.items.pop()\n",
    "    \n",
    "    def size(self): \n",
    "        return len(self.items)"
   ]
  },
  {
   "cell_type": "markdown",
   "metadata": {},
   "source": [
    "## 4.13 Simulation: Hot Potato"
   ]
  },
  {
   "cell_type": "markdown",
   "metadata": {},
   "source": [
    "Input a list of names and a constant \"num\" to be used for counting. It will return the name of the last person remaining after repetitive counting by `num`. "
   ]
  },
  {
   "cell_type": "markdown",
   "metadata": {},
   "source": [
    "* The child holding the potato will be at the front of the queue. \n",
    "* Upon passing the potato, the simulation will simply dequeue and then immediately enqueue that child, putting her at the end of the line. \n",
    "* After `num` dequeue/enqueue operations, the child at the front will be removed permanently and another cycle will begin. \n",
    "* This process continue until only one name remains (size is 1). "
   ]
  },
  {
   "cell_type": "code",
   "execution_count": 31,
   "metadata": {},
   "outputs": [],
   "source": [
    "from pythonds.basic import Queue\n",
    "\n",
    "def hotPotato(names, num):\n",
    "    namequeue = Queue()\n",
    "    for name in names: \n",
    "        namequeue.enqueue(name)\n",
    "        \n",
    "    while namequeue.size() != 1: \n",
    "        for i in range(num): \n",
    "            namequeue.enqueue(namequeue.dequeue())\n",
    "        namequeue.dequeue()\n",
    "    \n",
    "    return namequeue.dequeue()"
   ]
  },
  {
   "cell_type": "code",
   "execution_count": 32,
   "metadata": {},
   "outputs": [
    {
     "name": "stdout",
     "output_type": "stream",
     "text": [
      "Susan\n"
     ]
    }
   ],
   "source": [
    "print(hotPotato([\"Bill\",\"David\",\"Susan\",\"Jane\",\"Kent\",\"Brad\"],7))"
   ]
  },
  {
   "cell_type": "markdown",
   "metadata": {},
   "source": [
    "## 4.14 Simulation: Printing Tasks"
   ]
  },
  {
   "cell_type": "markdown",
   "metadata": {},
   "source": [
    "What page rate should be used?\n",
    "* On any average day about 10 students are working in the lab at any given hour. \n",
    "* These students typically print up to twice during that time. \n",
    "* The length of these tasks ranges from 1 to 20 pages. \n",
    "* One speed is 10 pages per minute\n",
    "* Another speed is 5 pages per minute. "
   ]
  },
  {
   "cell_type": "markdown",
   "metadata": {},
   "source": [
    "Buiding a simulation that models the lab: \n",
    "* Construct representations for students, printing tasks, printer\n",
    "* As students submit printing tasks, add them to a waiting list, a queue of print tasks attached to the printer\n",
    "* When the printer completes a task, it will look at the queue to see if there are any remaining tasks to process\n",
    "* We need the average amount of time students will wait for their papers to be printed. This is equal to the average amount of time a task waits in the queue. "
   ]
  },
  {
   "cell_type": "markdown",
   "metadata": {},
   "source": [
    "Assumptions: \n",
    "* If each length from 1 to 20 is equally likely, the actual length for a print task can be simulated by using a random number between 1 and 20 inclusive. \n",
    "* If 10 students in the lab and each prints twice, there are 20 print tasks per hour on average. \n",
    "* The chance that at any given second, a print task is going to be created: 20/hr = 1/180sec\n",
    "* For every second we can simulate the chance that a print task occurs by generating a random number between 1 and 180 inclusive. "
   ]
  },
  {
   "cell_type": "markdown",
   "metadata": {},
   "source": [
    "### 4.14.1 Main Simulation Steps"
   ]
  },
  {
   "cell_type": "markdown",
   "metadata": {},
   "source": [
    "1. Create a queue of print tasks. Each task will be given a timestamp upon its arrival. The queue is empty to start. \n",
    "2. For each second (`currentSecond`): \n",
    "    * Does a new print task get created? If so, add it to the queue with the `currentSecond` as the timestamp. \n",
    "    * If the printer is not busy and if a task is waiting, \n",
    "        * Remove the next task from the print queue and assign it to the printer. \n",
    "        * Subtract the timestamp from the `currentSecond` to compute the waiting time for that task. \n",
    "        * Append the waiting time for that task to a list for later processiong. \n",
    "        * Based on the number of pages in the print task, figure out how much time will be required. \n",
    "    * The printer now does one second of printing if necessary. It also subtracts one second from the time required for that task. \n",
    "    * If the task has been completed, in other words the time requied has reached zero, the printer is no longer busy. \n",
    "3. After the simulation is complete, compute the average waiting time from the list of waiting times generated. "
   ]
  },
  {
   "cell_type": "markdown",
   "metadata": {},
   "source": [
    "### 4.14.2 Implementation"
   ]
  },
  {
   "cell_type": "markdown",
   "metadata": {},
   "source": [
    "Create three real-world objects: `Printer`, `Task`, `PrintQueue`"
   ]
  },
  {
   "cell_type": "markdown",
   "metadata": {},
   "source": [
    "`Printer` class: \n",
    "* Track whether it has a current task\n",
    "* If yes, then it is busy and the amount of time needed can be computed from the number of pages in the task. \n",
    "* The constructor will also allow the pages-per-minute setting to be initialized. The `tick` method decrements the internal timer and sets the printer to idle if the task is completed. "
   ]
  },
  {
   "cell_type": "code",
   "execution_count": 6,
   "metadata": {},
   "outputs": [],
   "source": [
    "class Printer: \n",
    "    def __init__(self, ppm): \n",
    "        self.pagerate = ppm # speed\n",
    "        self.currentTask = None # whether or not busy\n",
    "        self.timeRemaining = 0\n",
    "        \n",
    "    def tick(self): \n",
    "        if self.currentTask != None: \n",
    "            self.timeRemaining = self.timeRemaining - 1\n",
    "            if self.timeRemaining <= 0:  # if timeRemaining <= 0, set currentTask to none, then can start a new task\n",
    "                self.currentTask = None\n",
    "    \n",
    "    def busy(self): \n",
    "        if self.currentTask != None: \n",
    "            return True\n",
    "        else: \n",
    "            return False\n",
    "    \n",
    "    def startNext(self,newtask): \n",
    "        self.currentTask = newtask\n",
    "        self.timeRemaining = newtask.getPages() * 60/self.pagerate"
   ]
  },
  {
   "cell_type": "markdown",
   "metadata": {},
   "source": [
    "`Task` class: \n",
    "* A single printing task\n",
    "* A random number generator will provide a length from 1 to 20 pages. Use `randrange`. \n",
    "* A timestamp to be used for computing waiting time. This timestamp will represent the time that the task was created and placed in the printer queue. \n",
    "* `waitTime` method can be used to retrieve the amount of time spent in the queue before printing begins. "
   ]
  },
  {
   "cell_type": "code",
   "execution_count": 7,
   "metadata": {},
   "outputs": [],
   "source": [
    "import random\n",
    "\n",
    "class Task: \n",
    "    def __init__(self, time): \n",
    "        self.timestamp = time\n",
    "        self.pages = random.randrange(1, 21)\n",
    "    \n",
    "    def getStamp(self): \n",
    "        return self.timestamp\n",
    "    \n",
    "    def getPages(self): \n",
    "        return self.pages\n",
    "    \n",
    "    def waitTime(self, currenttime): \n",
    "        return currenttime - self.timestamp"
   ]
  },
  {
   "cell_type": "markdown",
   "metadata": {},
   "source": [
    "Simulation: \n",
    "* `printQueue`: A queue, instance of existing queue ADT\n",
    "* `newPrintTask`: a boolean helper function, decides whether a new printing task has been created\n",
    "* `randrange`: return a random integer between 1 and 180. Print tasks arrive once every 180 seconds. Choosing 180 from the range of random integers, simulate this random event. \n",
    "* Set the total time and the pages per minute for the printer. "
   ]
  },
  {
   "cell_type": "code",
   "execution_count": 10,
   "metadata": {},
   "outputs": [],
   "source": [
    "from pythonds.basic.queue import Queue\n",
    "\n",
    "import random\n",
    "\n",
    "def simulation(numSeconds, pagesPerMinute): \n",
    "    \n",
    "    labprinter = Printer(pagesPerMinute)\n",
    "    printQueue = Queue()\n",
    "    waitingtimes = []\n",
    "    \n",
    "    for currentSecond in range(numSeconds): # Go through the time\n",
    "        \n",
    "        if newPrintTask():  # 180\n",
    "            task = Task(currentSecond)\n",
    "            printQueue.enqueue(task)\n",
    "            \n",
    "        if (not labprinter.busy()) and (not printQueue.isEmpty()): #if not busy, not empty\n",
    "            nexttask = printQueue.dequeue()\n",
    "            waitingtimes.append(nexttask.waitTime(currentSecond)) # record waiting time\n",
    "            labprinter.startNext(nexttask)\n",
    "            \n",
    "        labprinter.tick() # time remaining -1 时间流逝\n",
    "        \n",
    "    averageWait = sum(waitingtimes)/len(waitingtimes)\n",
    "    print(\"Average Wait %6.2f secs %3d tasks remaining.\"%(averageWait,printQueue.size()))\n",
    "        \n",
    "def newPrintTask(): \n",
    "    num = random.randrange(1, 181)\n",
    "    if num == 180: \n",
    "        return True\n",
    "    else: \n",
    "        return False"
   ]
  },
  {
   "cell_type": "code",
   "execution_count": 11,
   "metadata": {},
   "outputs": [
    {
     "name": "stdout",
     "output_type": "stream",
     "text": [
      "Average Wait 116.78 secs   1 tasks remaining.\n",
      "Average Wait  57.71 secs   0 tasks remaining.\n",
      "Average Wait 283.69 secs   0 tasks remaining.\n",
      "Average Wait 195.75 secs   1 tasks remaining.\n",
      "Average Wait 113.16 secs   2 tasks remaining.\n",
      "Average Wait 221.44 secs   0 tasks remaining.\n",
      "Average Wait 126.90 secs   0 tasks remaining.\n",
      "Average Wait  43.71 secs   1 tasks remaining.\n",
      "Average Wait 218.70 secs   0 tasks remaining.\n",
      "Average Wait  25.11 secs   0 tasks remaining.\n"
     ]
    }
   ],
   "source": [
    "for i in range(10): \n",
    "    simulation(3600,5)"
   ]
  },
  {
   "cell_type": "code",
   "execution_count": 12,
   "metadata": {},
   "outputs": [
    {
     "name": "stdout",
     "output_type": "stream",
     "text": [
      "Average Wait  55.59 secs   0 tasks remaining.\n",
      "Average Wait  22.21 secs   0 tasks remaining.\n",
      "Average Wait  15.21 secs   0 tasks remaining.\n",
      "Average Wait   5.53 secs   0 tasks remaining.\n",
      "Average Wait  20.44 secs   0 tasks remaining.\n",
      "Average Wait  14.17 secs   0 tasks remaining.\n",
      "Average Wait   4.94 secs   0 tasks remaining.\n",
      "Average Wait  11.93 secs   1 tasks remaining.\n",
      "Average Wait  14.75 secs   0 tasks remaining.\n",
      "Average Wait  14.63 secs   0 tasks remaining.\n"
     ]
    }
   ],
   "source": [
    "for i in range(10): \n",
    "    simulation(3600,10)"
   ]
  },
  {
   "cell_type": "markdown",
   "metadata": {},
   "source": [
    "## 4.15 Dequeue"
   ]
  },
  {
   "cell_type": "markdown",
   "metadata": {},
   "source": [
    "* **Two ends**, a front and a rear\n",
    "* New items can be added and removed at either the front or the rear. \n",
    "* Provides all the capabilities of stacks and queues in a single data structure. "
   ]
  },
  {
   "cell_type": "markdown",
   "metadata": {},
   "source": [
    "Assume the rear of the deque is at position 0 in the list. "
   ]
  },
  {
   "cell_type": "code",
   "execution_count": 13,
   "metadata": {},
   "outputs": [],
   "source": [
    "class Deque: \n",
    "    def __init__(self): \n",
    "        self.items = []\n",
    "        \n",
    "    def isEmpty(self): \n",
    "        return self.items == []\n",
    "    \n",
    "    def addFront(self, item): \n",
    "        self.items.append(item)\n",
    "        \n",
    "    def addRear(self, item): \n",
    "        self.items.insert(0, item)\n",
    "    \n",
    "    def removeFront(self): \n",
    "        return self.items.pop()\n",
    "    \n",
    "    def removeRear(self): \n",
    "        return self.items.pop(0)\n",
    "    \n",
    "    def size(self): \n",
    "        return len(self.items)"
   ]
  },
  {
   "cell_type": "markdown",
   "metadata": {},
   "source": [
    "## 4.18 Palindrome-Checker"
   ]
  },
  {
   "cell_type": "markdown",
   "metadata": {},
   "source": [
    "**Palindrome**: a string that reads the same forward and backward. \n",
    "* Construct an algo to input a string of characters and check whether it is a palindrome.\n"
   ]
  },
  {
   "cell_type": "markdown",
   "metadata": {},
   "source": [
    "* Add character one by one at rear\n",
    "* Remove from two ends, compare them\n",
    "* If match, then eventually either run out of characters or be left with a deque of size 1. \n",
    "* In either case, the string must be a palindrome. "
   ]
  },
  {
   "cell_type": "code",
   "execution_count": 14,
   "metadata": {},
   "outputs": [
    {
     "name": "stdout",
     "output_type": "stream",
     "text": [
      "False\n",
      "True\n"
     ]
    }
   ],
   "source": [
    "from pythonds.basic import Deque\n",
    "\n",
    "def palchecker(aString): \n",
    "    chardeque = Deque()\n",
    "    \n",
    "    for ch in aString: \n",
    "        chardeque.addRear(ch)\n",
    "        \n",
    "    stillEqual = True\n",
    "    \n",
    "    while chardeque.size() > 1 and stillEqual: \n",
    "        first = chardeque.removeFront()\n",
    "        last = chardeque.removeRear()\n",
    "        if first != last: \n",
    "            stillEqual = False\n",
    "    \n",
    "    return stillEqual\n",
    "\n",
    "print(palchecker(\"lsdkjfskf\"))\n",
    "print(palchecker(\"radar\"))"
   ]
  },
  {
   "cell_type": "markdown",
   "metadata": {},
   "source": [
    "## 4.19 Lists"
   ]
  },
  {
   "cell_type": "markdown",
   "metadata": {},
   "source": [
    "* **Unordered list**: A collection of items where each item holds a relative position with respect to the others. \n",
    "* Refer to the beginning and the end of the list. \n",
    "* Lists cannot contain duplicate items. "
   ]
  },
  {
   "cell_type": "markdown",
   "metadata": {},
   "source": [
    "**Abstract Data Type**\n",
    "* `List()`\n",
    "* `add(item)`\n",
    "* `remove(item)`\n",
    "* `search(item)`\n",
    "* `isEmpty()`\n",
    "* `size()`\n",
    "* `append(item)`\n",
    "* `index(item)`\n",
    "* `index(item)`: returns the position of item in the list\n",
    "* `insert(pos,item)`\n",
    "* `pop()`: removes and returns\n",
    "* `pop(pos)`: removes and returns the item at position pos"
   ]
  },
  {
   "cell_type": "markdown",
   "metadata": {},
   "source": [
    "## 4.21 Implementing an Unordered List: Linked Lists"
   ]
  },
  {
   "cell_type": "markdown",
   "metadata": {},
   "source": [
    "### 4.21.1 The Node Class\n",
    "\n",
    "* Basic bulding block for the linked list\n",
    "* Node object must have at least two pieces of information\n",
    "    * List item itself： **data field**\n",
    "    * Reference to the next node\n",
    "* Supply the initial data value for the node\n",
    "* Node class also includes the usual methods to access and modify the data and the next reference"
   ]
  },
  {
   "cell_type": "code",
   "execution_count": 1,
   "metadata": {},
   "outputs": [],
   "source": [
    "class Node: \n",
    "    def __init__(self, initdata): \n",
    "        self.data = initdata\n",
    "        self.next = None\n",
    "    \n",
    "    def getData(self): \n",
    "        return self.data\n",
    "    \n",
    "    def getNext(self): \n",
    "        return self.next\n",
    "    \n",
    "    def setData(self, newdata): \n",
    "        self.data = newdata\n",
    "        \n",
    "    def setNext(self, newnext): \n",
    "        self.next = newnext"
   ]
  },
  {
   "cell_type": "code",
   "execution_count": 16,
   "metadata": {},
   "outputs": [
    {
     "data": {
      "text/plain": [
       "93"
      ]
     },
     "execution_count": 16,
     "metadata": {},
     "output_type": "execute_result"
    }
   ],
   "source": [
    "temp = Node(93)\n",
    "temp.getData()"
   ]
  },
  {
   "cell_type": "markdown",
   "metadata": {},
   "source": [
    "### 4.21.2 Unordered List Class\n",
    "\n",
    "* Built from a collection of nodes\n",
    "* Each linked to the next by explicit references\n",
    "* As long as know where to find the first node, each item after that can be found by successively following the next links. \n",
    "* `UnorderedList` class must maintain a reference to the first node. \n",
    "* Methods: \n",
    "    * `isEmpty`: checks to see if the head of the list is a reference to `None`. `None` can be compared to any reference. To references are equal if they both refer to the same object.\n",
    "    * `Add`: Add to the head. Because the linked list structure provides with only one entry point, the head of the list. All of the other nodes can only by reached by accessing the first node and then following `next` links. \n",
    "    * `size`, `search`, `remove`: based on a technique known as **linked list traversal** - an external reference. "
   ]
  },
  {
   "cell_type": "code",
   "execution_count": 12,
   "metadata": {},
   "outputs": [],
   "source": [
    "class UnorderedList: \n",
    "    \n",
    "    def __init__(self): \n",
    "        self.head = None\n",
    "    \n",
    "    def isEmpty(self): \n",
    "        return self.head == None\n",
    "    \n",
    "    def add(self, item): \n",
    "        temp = Node(item)\n",
    "        temp.setNext(self.head)\n",
    "        self.head = temp\n",
    "    \n",
    "    def size(self): \n",
    "        current = self.head\n",
    "        count = 0\n",
    "        while current != None: \n",
    "            count = count + 1\n",
    "            current = current.getNext()\n",
    "        \n",
    "        return count\n",
    "    \n",
    "    def search(self, item): \n",
    "        current = self.head\n",
    "        found = False\n",
    "        while current != None and not found: \n",
    "            if current.getData() == item: \n",
    "                found = True\n",
    "            else: \n",
    "                current = current.getNext()\n",
    "        return found\n",
    "    \n",
    "    def remove(self, item): # 如果要remove的不存在那就gg了\n",
    "        current = self.head\n",
    "        previous = None\n",
    "        found = False\n",
    "        while not found: \n",
    "            if current.getData() == item: \n",
    "                found = True\n",
    "            else: \n",
    "                previous = current\n",
    "                current = current.getNext()\n",
    "        \n",
    "        if previous == None: \n",
    "            self.head = current.getNext()\n",
    "        else: \n",
    "            previous.setNext(current.getNext())\n",
    "        \n",
    "    def append(self, item): # O(n)\n",
    "        current = self.head\n",
    "        while current.getNext() is not None: \n",
    "            current = current.getNext()\n",
    "        \n",
    "        current.setNext(Node(item))"
   ]
  },
  {
   "cell_type": "code",
   "execution_count": 13,
   "metadata": {},
   "outputs": [],
   "source": [
    "mylist = UnorderedList()"
   ]
  },
  {
   "cell_type": "code",
   "execution_count": 14,
   "metadata": {},
   "outputs": [
    {
     "name": "stdout",
     "output_type": "stream",
     "text": [
      "6\n",
      "True\n",
      "False\n",
      "True\n",
      "7\n"
     ]
    }
   ],
   "source": [
    "mylist.add(31)\n",
    "mylist.add(77)\n",
    "mylist.add(17)\n",
    "mylist.add(93)\n",
    "mylist.add(26)\n",
    "mylist.add(54)\n",
    "\n",
    "print(mylist.size())\n",
    "print(mylist.search(93))\n",
    "print(mylist.search(100))\n",
    "\n",
    "mylist.add(100)\n",
    "print(mylist.search(100))\n",
    "print(mylist.size())"
   ]
  },
  {
   "cell_type": "code",
   "execution_count": 10,
   "metadata": {},
   "outputs": [
    {
     "ename": "AttributeError",
     "evalue": "'NoneType' object has no attribute 'getData'",
     "output_type": "error",
     "traceback": [
      "\u001b[1;31m---------------------------------------------------------------------------\u001b[0m",
      "\u001b[1;31mAttributeError\u001b[0m                            Traceback (most recent call last)",
      "\u001b[1;32m<ipython-input-10-05a9165458d5>\u001b[0m in \u001b[0;36m<module>\u001b[1;34m()\u001b[0m\n\u001b[1;32m----> 1\u001b[1;33m \u001b[0mmylist\u001b[0m\u001b[1;33m.\u001b[0m\u001b[0mremove\u001b[0m\u001b[1;33m(\u001b[0m\u001b[1;36m22\u001b[0m\u001b[1;33m)\u001b[0m\u001b[1;33m\u001b[0m\u001b[0m\n\u001b[0m\u001b[0;32m      2\u001b[0m \u001b[0mprint\u001b[0m\u001b[1;33m(\u001b[0m\u001b[0mmylist\u001b[0m\u001b[1;33m.\u001b[0m\u001b[0msize\u001b[0m\u001b[1;33m(\u001b[0m\u001b[1;33m)\u001b[0m\u001b[1;33m)\u001b[0m\u001b[1;33m\u001b[0m\u001b[0m\n",
      "\u001b[1;32m<ipython-input-5-d80b02686246>\u001b[0m in \u001b[0;36mremove\u001b[1;34m(self, item)\u001b[0m\n\u001b[0;32m     36\u001b[0m         \u001b[0mfound\u001b[0m \u001b[1;33m=\u001b[0m \u001b[1;32mFalse\u001b[0m\u001b[1;33m\u001b[0m\u001b[0m\n\u001b[0;32m     37\u001b[0m         \u001b[1;32mwhile\u001b[0m \u001b[1;32mnot\u001b[0m \u001b[0mfound\u001b[0m\u001b[1;33m:\u001b[0m\u001b[1;33m\u001b[0m\u001b[0m\n\u001b[1;32m---> 38\u001b[1;33m             \u001b[1;32mif\u001b[0m \u001b[0mcurrent\u001b[0m\u001b[1;33m.\u001b[0m\u001b[0mgetData\u001b[0m\u001b[1;33m(\u001b[0m\u001b[1;33m)\u001b[0m \u001b[1;33m==\u001b[0m \u001b[0mitem\u001b[0m\u001b[1;33m:\u001b[0m\u001b[1;33m\u001b[0m\u001b[0m\n\u001b[0m\u001b[0;32m     39\u001b[0m                 \u001b[0mfound\u001b[0m \u001b[1;33m=\u001b[0m \u001b[1;32mTrue\u001b[0m\u001b[1;33m\u001b[0m\u001b[0m\n\u001b[0;32m     40\u001b[0m             \u001b[1;32melse\u001b[0m\u001b[1;33m:\u001b[0m\u001b[1;33m\u001b[0m\u001b[0m\n",
      "\u001b[1;31mAttributeError\u001b[0m: 'NoneType' object has no attribute 'getData'"
     ]
    }
   ],
   "source": [
    "mylist.remove(22)\n",
    "print(mylist.size())"
   ]
  },
  {
   "cell_type": "code",
   "execution_count": 15,
   "metadata": {},
   "outputs": [
    {
     "name": "stdout",
     "output_type": "stream",
     "text": [
      "True\n",
      "8\n"
     ]
    }
   ],
   "source": [
    "mylist.append(22)\n",
    "print(mylist.search(22))\n",
    "print(mylist.size())"
   ]
  },
  {
   "cell_type": "markdown",
   "metadata": {},
   "source": [
    "**Self Check**\n",
    "\n",
    "Part II: Append method with O(1). \n",
    "* Hint: add tail pointer"
   ]
  },
  {
   "cell_type": "code",
   "execution_count": 2,
   "metadata": {},
   "outputs": [],
   "source": [
    "class UnorderedList2: \n",
    "    \n",
    "    def __init__(self): \n",
    "        self.head = None\n",
    "        self.tail = None\n",
    "    \n",
    "    def isEmpty(self): \n",
    "        return self.head == None\n",
    "    \n",
    "    def add(self, item): \n",
    "        if self.isEmpty(): \n",
    "            self.head = Node(item)\n",
    "            self.tail = self.head\n",
    "        else: \n",
    "            temp = Node(item)\n",
    "            temp.setNext(self.head)\n",
    "            self.head = temp\n",
    "    \n",
    "    def size(self): \n",
    "        current = self.head\n",
    "        count = 0\n",
    "        while current != None: \n",
    "            count = count + 1\n",
    "            current = current.getNext()\n",
    "        \n",
    "        return count\n",
    "    \n",
    "    def search(self, item): \n",
    "        current = self.head\n",
    "        found = False\n",
    "        while current != None and not found: \n",
    "            if current.getData() == item: \n",
    "                found = True\n",
    "            else: \n",
    "                current = current.getNext()\n",
    "        return found\n",
    "    \n",
    "    def remove(self, item): # 如果要remove的不存在那就gg了\n",
    "        current = self.head\n",
    "        previous = None\n",
    "        found = False\n",
    "        while not found: \n",
    "            if current.getData() == item: \n",
    "                found = True\n",
    "            else: \n",
    "                previous = current\n",
    "                current = current.getNext()\n",
    "        \n",
    "        if previous == None: \n",
    "            self.head = current.getNext()\n",
    "        else: \n",
    "            previous.setNext(current.getNext())\n",
    "        \n",
    "    def append_n(self, item): # O(n)\n",
    "        current = self.head\n",
    "        while current.getNext() is not None: \n",
    "            current = current.getNext()\n",
    "        \n",
    "        current.setNext(Node(item))\n",
    "    \n",
    "    def append_1(self, item): # O(1)\n",
    "        if self.isEmpty(): \n",
    "            self.add(item)\n",
    "        else: \n",
    "            temp = Node(item)\n",
    "            self.tail.setNext(temp)\n",
    "            self.tail = self.tail.getNext()          "
   ]
  },
  {
   "cell_type": "code",
   "execution_count": 3,
   "metadata": {},
   "outputs": [],
   "source": [
    "mylist = UnorderedList2()"
   ]
  },
  {
   "cell_type": "code",
   "execution_count": 4,
   "metadata": {},
   "outputs": [
    {
     "name": "stdout",
     "output_type": "stream",
     "text": [
      "True\n",
      "1\n"
     ]
    }
   ],
   "source": [
    "mylist.append_1(22)\n",
    "print(mylist.search(22))\n",
    "print(mylist.size())"
   ]
  },
  {
   "cell_type": "code",
   "execution_count": 5,
   "metadata": {},
   "outputs": [],
   "source": [
    "mylist.add(31)\n",
    "mylist.add(77)\n",
    "mylist.add(17)\n",
    "mylist.add(93)\n",
    "mylist.add(26)\n",
    "mylist.add(54)"
   ]
  },
  {
   "cell_type": "code",
   "execution_count": 6,
   "metadata": {},
   "outputs": [
    {
     "name": "stdout",
     "output_type": "stream",
     "text": [
      "True\n",
      "8\n"
     ]
    }
   ],
   "source": [
    "mylist.append_1(23)\n",
    "print(mylist.search(23))\n",
    "print(mylist.size())"
   ]
  },
  {
   "cell_type": "markdown",
   "metadata": {},
   "source": [
    "## 4.22 Ordered List Abstract Data Type"
   ]
  },
  {
   "cell_type": "markdown",
   "metadata": {},
   "source": [
    "**Ordered List**\n",
    "* A collection of items where each item holds a relative position that is based upon some underlying characteristic of the item. \n",
    "* `OrderedList()`\n",
    "* `add(item)`\n",
    "* `remove(item)`\n",
    "* `search(item)`\n",
    "* `isEmpty()`\n",
    "* `size()`\n",
    "* `index(item)`\n",
    "* `pop()`: removes and returns the last item\n",
    "* `pop(pos)`: removes and returns the item at pos"
   ]
  },
  {
   "cell_type": "markdown",
   "metadata": {},
   "source": [
    "## 4.23 Implementing an Ordered List"
   ]
  },
  {
   "cell_type": "markdown",
   "metadata": {},
   "source": [
    "Comparing with unordered list, `isEmpty`, `size` and `remove` don't change. `search` and `add` will require some modification. \n",
    "\n",
    "* `search`: once the value in the node becomes greater than the item we are searching for, the search can stop and return `False`. Set a \"stop\" para. \n",
    "* `add`: "
   ]
  },
  {
   "cell_type": "code",
   "execution_count": null,
   "metadata": {},
   "outputs": [],
   "source": [
    "class OrderedList: \n",
    "    def __init__(self): \n",
    "        self.head = None\n",
    "    \n",
    "    def search(self, item): \n",
    "        current = self.head\n",
    "        found = False\n",
    "        stop = False\n",
    "        while current != None and not found and not stop: \n",
    "            if current.getData() == item: \n",
    "                found = True\n",
    "            else: \n",
    "                if current.getData() > item: \n",
    "                    stop = True\n",
    "                else: \n",
    "                    current = current.getNext()\n",
    "        \n",
    "        return found\n",
    "    \n",
    "    def add(self, item): \n",
    "        current = self.head\n",
    "        previous = None\n",
    "        stop = False\n",
    "        while current != None and not stop: \n",
    "            if current.getData() > item: \n",
    "                stop = True\n",
    "            else: \n",
    "                previous = current\n",
    "                current = current.getNext()\n",
    "        \n",
    "        temp = Node(item)\n",
    "        if previous == None: # item is smaller than the first node\n",
    "            temp.setNext(self.head)\n",
    "            self.head = temp\n",
    "        else: \n",
    "            temp.setNext(current)\n",
    "            previous.setNext(temp)\n",
    "            \n",
    "    def isEmpty(self):\n",
    "        return self.head == None\n",
    "\n",
    "    def size(self):\n",
    "        current = self.head\n",
    "        count = 0\n",
    "        while current != None:\n",
    "            count = count + 1\n",
    "            current = current.getNext()\n",
    "\n",
    "        return count"
   ]
  }
 ],
 "metadata": {
  "kernelspec": {
   "display_name": "Python 3",
   "language": "python",
   "name": "python3"
  },
  "language_info": {
   "codemirror_mode": {
    "name": "ipython",
    "version": 3
   },
   "file_extension": ".py",
   "mimetype": "text/x-python",
   "name": "python",
   "nbconvert_exporter": "python",
   "pygments_lexer": "ipython3",
   "version": "3.7.0"
  }
 },
 "nbformat": 4,
 "nbformat_minor": 2
}
