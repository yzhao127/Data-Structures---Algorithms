{
 "cells": [
  {
   "cell_type": "markdown",
   "metadata": {},
   "source": [
    "# 1 Introduction"
   ]
  },
  {
   "cell_type": "markdown",
   "metadata": {},
   "source": [
    "## 1.11 Exception Handling"
   ]
  },
  {
   "cell_type": "markdown",
   "metadata": {},
   "source": [
    "Two types of errors: \n",
    "1. Syntax error: a mistake in the structure of a statement or expression\n",
    "2. Logic error: executes but gives the wrong result; leads to a runtime error that causes the program to terminate -> exceptions\n",
    "\n",
    "\"Raised\": an exception occurs\n",
    "\"Handle\": handel the exception that has been raised by using a `try` statement"
   ]
  },
  {
   "cell_type": "code",
   "execution_count": 2,
   "metadata": {},
   "outputs": [
    {
     "name": "stdout",
     "output_type": "stream",
     "text": [
      "Bad Value for squre root\n",
      "Using absolute value instead\n",
      "1.4142135623730951\n"
     ]
    }
   ],
   "source": [
    "import math\n",
    "\n",
    "try: \n",
    "    print(math.sqrt(-2))\n",
    "except: \n",
    "    print(\"Bad Value for squre root\")\n",
    "    print(\"Using absolute value instead\")\n",
    "    print(math.sqrt(abs(-2)))"
   ]
  },
  {
   "cell_type": "markdown",
   "metadata": {},
   "source": [
    "`raise` statement: check value first and then raised exception. \n",
    "The code fragment below shows the result of creating a new `RuntimeError` exception. "
   ]
  },
  {
   "cell_type": "code",
   "execution_count": 3,
   "metadata": {},
   "outputs": [
    {
     "ename": "RuntimeError",
     "evalue": "You can't use a negative number",
     "output_type": "error",
     "traceback": [
      "\u001b[1;31m---------------------------------------------------------------------------\u001b[0m",
      "\u001b[1;31mRuntimeError\u001b[0m                              Traceback (most recent call last)",
      "\u001b[1;32m<ipython-input-3-eeb567ed008d>\u001b[0m in \u001b[0;36m<module>\u001b[1;34m()\u001b[0m\n\u001b[0;32m      1\u001b[0m \u001b[1;32mif\u001b[0m \u001b[1;33m-\u001b[0m\u001b[1;36m2\u001b[0m\u001b[1;33m<\u001b[0m\u001b[1;36m0\u001b[0m\u001b[1;33m:\u001b[0m\u001b[1;33m\u001b[0m\u001b[0m\n\u001b[1;32m----> 2\u001b[1;33m     \u001b[1;32mraise\u001b[0m \u001b[0mRuntimeError\u001b[0m\u001b[1;33m(\u001b[0m\u001b[1;34m\"You can't use a negative number\"\u001b[0m\u001b[1;33m)\u001b[0m\u001b[1;33m\u001b[0m\u001b[0m\n\u001b[0m\u001b[0;32m      3\u001b[0m \u001b[1;32melse\u001b[0m\u001b[1;33m:\u001b[0m\u001b[1;33m\u001b[0m\u001b[0m\n\u001b[0;32m      4\u001b[0m     \u001b[0mprint\u001b[0m\u001b[1;33m(\u001b[0m\u001b[0mmath\u001b[0m\u001b[1;33m.\u001b[0m\u001b[0msqrt\u001b[0m\u001b[1;33m(\u001b[0m\u001b[1;33m-\u001b[0m\u001b[1;36m2\u001b[0m\u001b[1;33m)\u001b[0m\u001b[1;33m)\u001b[0m\u001b[1;33m\u001b[0m\u001b[0m\n",
      "\u001b[1;31mRuntimeError\u001b[0m: You can't use a negative number"
     ]
    }
   ],
   "source": [
    "if -2<0: \n",
    "    raise RuntimeError(\"You can't use a negative number\")\n",
    "else: \n",
    "    print(math.sqrt(-2))"
   ]
  },
  {
   "cell_type": "markdown",
   "metadata": {},
   "source": [
    "## 1.12 Defining Functions"
   ]
  },
  {
   "cell_type": "code",
   "execution_count": 11,
   "metadata": {},
   "outputs": [],
   "source": [
    "import random\n",
    "\n",
    "def generateList(): \n",
    "    num_list = [32] + list(range(97, 123))\n",
    "    return num_list\n",
    "\n",
    "def generateString(length, num_list): \n",
    "    string = \"\"\n",
    "    for i in range(length): \n",
    "        string = string + chr(random.choice(num_list))\n",
    "    return string\n",
    "\n",
    "def score(goal, string): \n",
    "    n = len(goal)\n",
    "    score = 0\n",
    "    for i in range(n): \n",
    "        if string[i] == goal[i]: \n",
    "            score += 1\n",
    "    return score\n",
    "\n",
    "def findString(goal, n_it = 1000): \n",
    "    num_list = generateList()\n",
    "    leng = len(goal)\n",
    "    best_score = 0\n",
    "    best_string = \"\"\n",
    "    \n",
    "    for i in range(n_it): \n",
    "        string = generateString(leng, num_list)\n",
    "        string_score = score(goal, string)\n",
    "        \n",
    "        if string_score == 28: \n",
    "            break\n",
    "        elif string_score >= best_score: \n",
    "            best_string = string\n",
    "            best_score = string_score\n",
    "        else: \n",
    "            continue\n",
    "    \n",
    "    return best_string, best_score"
   ]
  },
  {
   "cell_type": "code",
   "execution_count": 13,
   "metadata": {},
   "outputs": [],
   "source": [
    "goal_str = \"methinks it is like a weasel\"\n",
    "best_string, best_score = findString(goal_str, n_it = 1000)"
   ]
  },
  {
   "cell_type": "code",
   "execution_count": 14,
   "metadata": {},
   "outputs": [
    {
     "data": {
      "text/plain": [
       "'mitegrct uj igquqkqdasntutxp'"
      ]
     },
     "execution_count": 14,
     "metadata": {},
     "output_type": "execute_result"
    }
   ],
   "source": [
    "best_string"
   ]
  },
  {
   "cell_type": "code",
   "execution_count": 15,
   "metadata": {},
   "outputs": [
    {
     "data": {
      "text/plain": [
       "7"
      ]
     },
     "execution_count": 15,
     "metadata": {},
     "output_type": "execute_result"
    }
   ],
   "source": [
    "best_score"
   ]
  },
  {
   "cell_type": "markdown",
   "metadata": {},
   "source": [
    "Answer"
   ]
  },
  {
   "cell_type": "code",
   "execution_count": null,
   "metadata": {},
   "outputs": [],
   "source": [
    "import random\n",
    "\n",
    "def generateOne(strlen): \n",
    "    alphabet = \"qwertyuiopasdfghjklzxcvbnm \"\n",
    "    res = \"\"\n",
    "    for i in range(strlen): \n",
    "        res = res + alphabet[random.randrange(27)]\n",
    "        \n",
    "        return res\n",
    "    \n",
    "def score(goal, teststring): \n",
    "    numSame = 0\n",
    "    for i in range(len(goal)): \n",
    "        if goal[i] == teststring[i]: \n",
    "            numSame = numSame + 1\n",
    "    return numSame/len(goal)\n",
    "\n",
    "def main(): \n",
    "    goalstring = \"methinks it is like a weasel\"\n",
    "    newstring = generateOne(28)\n",
    "    best = 0\n",
    "    newscore = score(goalstring, newstring)\n",
    "    while newscore < 1: \n",
    "        if newscore >= best: \n",
    "            print(newscore, newstring)\n",
    "            best = newscore\n",
    "        newstring = generateOne(28)\n",
    "        newscore = score(goalstring, newstring)\n",
    "\n",
    "main()"
   ]
  },
  {
   "cell_type": "markdown",
   "metadata": {},
   "source": [
    "## 1.13 Object-Oriented Programming in Python: Defining Classes"
   ]
  },
  {
   "cell_type": "markdown",
   "metadata": {},
   "source": [
    "### 1.13.1. A Fraction Class"
   ]
  },
  {
   "cell_type": "markdown",
   "metadata": {},
   "source": [
    "Construct a user-defined class to implement the abstract data type `Fraction`. \n",
    "\n",
    "Class: \n",
    "* 1st method: constructor, defines the way in which data objects are created, called __init__"
   ]
  },
  {
   "cell_type": "code",
   "execution_count": 16,
   "metadata": {},
   "outputs": [],
   "source": [
    "class Fraction: \n",
    "    \n",
    "    def __init__(self, top, bottom): \n",
    "        self.num = top\n",
    "        self.den = bottom"
   ]
  },
  {
   "cell_type": "markdown",
   "metadata": {},
   "source": [
    "To create an instance of the `Fraction` class, we must invoke the constructor. Using the name of the class and passing actual values for the necessary state. "
   ]
  },
  {
   "cell_type": "code",
   "execution_count": 17,
   "metadata": {},
   "outputs": [],
   "source": [
    "myfraction = Fraction(3,5)"
   ]
  },
  {
   "cell_type": "markdown",
   "metadata": {},
   "source": [
    "Print: `Fraction` object does not know how to respond to this request to print. `print` requires that the object convert itself into a string so that the string can be written to the output. Only show actual reference in the variable (the address itself). "
   ]
  },
  {
   "cell_type": "code",
   "execution_count": 19,
   "metadata": {},
   "outputs": [
    {
     "name": "stdout",
     "output_type": "stream",
     "text": [
      "<__main__.Fraction object at 0x000001D85A356400>\n"
     ]
    }
   ],
   "source": [
    "print(myfraction)"
   ]
  },
  {
   "cell_type": "markdown",
   "metadata": {},
   "source": [
    "2 ways solve this problem: \n",
    "* define a method called `show`. does not work in general, need to tell the `Fraction` class how to convert itself into a string. "
   ]
  },
  {
   "cell_type": "code",
   "execution_count": 22,
   "metadata": {},
   "outputs": [],
   "source": [
    "class Fraction: \n",
    "    \n",
    "    def __init__(self, top, bottom): \n",
    "        self.num = top\n",
    "        self.den = bottom\n",
    "\n",
    "    def show(self): \n",
    "        print(self.num, \"/\", self.den)"
   ]
  },
  {
   "cell_type": "code",
   "execution_count": 24,
   "metadata": {},
   "outputs": [
    {
     "name": "stdout",
     "output_type": "stream",
     "text": [
      "3 / 5\n"
     ]
    }
   ],
   "source": [
    "myf = Fraction(3, 5)\n",
    "myf.show()"
   ]
  },
  {
   "cell_type": "markdown",
   "metadata": {},
   "source": [
    "* Override standard methods. simply define a method with the name `__str__` and give it a new implementation. the default implementation is to return the instance address string, but we want to change that. "
   ]
  },
  {
   "cell_type": "code",
   "execution_count": 25,
   "metadata": {},
   "outputs": [],
   "source": [
    "class Fraction: \n",
    "    \n",
    "    def __init__(self, top, bottom): \n",
    "        self.num = top\n",
    "        self.den = bottom\n",
    "\n",
    "    def __str__(self): \n",
    "        return str(self.num)+\"/\"+str(self.den)"
   ]
  },
  {
   "cell_type": "code",
   "execution_count": 26,
   "metadata": {},
   "outputs": [
    {
     "name": "stdout",
     "output_type": "stream",
     "text": [
      "3/5\n"
     ]
    }
   ],
   "source": [
    "myf = Fraction(3, 5)\n",
    "print(myf)"
   ]
  },
  {
   "cell_type": "code",
   "execution_count": 27,
   "metadata": {},
   "outputs": [
    {
     "data": {
      "text/plain": [
       "'3/5'"
      ]
     },
     "execution_count": 27,
     "metadata": {},
     "output_type": "execute_result"
    }
   ],
   "source": [
    "myf.__str__()"
   ]
  },
  {
   "cell_type": "markdown",
   "metadata": {},
   "source": [
    "#### Override other standard methods"
   ]
  },
  {
   "cell_type": "markdown",
   "metadata": {},
   "source": [
    "* Add: `__add__`，requires 2 params: (`self`, the other operand)"
   ]
  },
  {
   "cell_type": "code",
   "execution_count": null,
   "metadata": {},
   "outputs": [],
   "source": [
    "f1.__add__(f2)"
   ]
  },
  {
   "cell_type": "code",
   "execution_count": null,
   "metadata": {},
   "outputs": [],
   "source": [
    "f1+f2"
   ]
  },
  {
   "cell_type": "code",
   "execution_count": 28,
   "metadata": {},
   "outputs": [],
   "source": [
    "class Fraction: \n",
    "    \n",
    "    def __init__(self, top, bottom): \n",
    "        self.num = top\n",
    "        self.den = bottom\n",
    "\n",
    "    def __str__(self): \n",
    "        return str(self.num)+\"/\"+str(self.den)\n",
    "    \n",
    "    def __add__(self, otherfraction): \n",
    "        newnum = self.num*otherfraction.den + self.den*otherfraction.num\n",
    "        newden = self.den*otherfraction.den\n",
    "        return Fraction(newnum, newden)"
   ]
  },
  {
   "cell_type": "code",
   "execution_count": 29,
   "metadata": {},
   "outputs": [
    {
     "name": "stdout",
     "output_type": "stream",
     "text": [
      "6/8\n"
     ]
    }
   ],
   "source": [
    "f1 = Fraction(1,4)\n",
    "f2 = Fraction(1,2)\n",
    "f3 = f1+f2\n",
    "print(f3)"
   ]
  },
  {
   "cell_type": "markdown",
   "metadata": {},
   "source": [
    "Reduce fraction\n",
    "\n",
    "**Finding a greatest common divisor (GCD): Euclid's Algorithm** (Reference Ch8)\n",
    "\n",
    "if n divides m evenly: \n",
    "\n",
    "    GCD is n\n",
    "\n",
    "else if n does not divide m evenly: \n",
    "\n",
    "    GCD is the GCD of (n) and (the remainder of m divided by n)"
   ]
  },
  {
   "cell_type": "code",
   "execution_count": 31,
   "metadata": {},
   "outputs": [
    {
     "name": "stdout",
     "output_type": "stream",
     "text": [
      "10\n"
     ]
    }
   ],
   "source": [
    "def gcd(m,n): \n",
    "    while m%n != 0: \n",
    "        oldm = m\n",
    "        oldn = n\n",
    "        \n",
    "        m = oldn\n",
    "        n = oldm%oldn\n",
    "        \n",
    "    return n\n",
    "\n",
    "print(gcd(20,10))"
   ]
  },
  {
   "cell_type": "code",
   "execution_count": 32,
   "metadata": {},
   "outputs": [],
   "source": [
    "class Fraction: \n",
    "    \n",
    "    def __init__(self, top, bottom): \n",
    "        self.num = top\n",
    "        self.den = bottom\n",
    "\n",
    "    def __str__(self): \n",
    "        return str(self.num)+\"/\"+str(self.den)\n",
    "    \n",
    "    def __add__(self, otherfraction): \n",
    "        newnum = self.num*otherfraction.den + self.den*otherfraction.num\n",
    "        newden = self.den*otherfraction.den\n",
    "        common = gcd(newnum, newden)\n",
    "        return Fraction(newnum//common, newden//common)"
   ]
  },
  {
   "cell_type": "code",
   "execution_count": 33,
   "metadata": {},
   "outputs": [
    {
     "name": "stdout",
     "output_type": "stream",
     "text": [
      "3/4\n"
     ]
    }
   ],
   "source": [
    "f1 = Fraction(1,4)\n",
    "f2 = Fraction(1,2)\n",
    "f3 = f1+f2\n",
    "print(f3)"
   ]
  },
  {
   "cell_type": "markdown",
   "metadata": {},
   "source": [
    "* Comparison two fractions:  \n",
    "    - **shallow equality**: `f1 == f2` will only be `True` if they are references to the same object. Two different objects with the same numerators and denominators would not be equal under this implementation. \n",
    "    - **deep equality**: equality by the same value, not the same reference. overriding the `__eq__` method. \n",
    "\n",
    "Note: there are other relational operators that can be overriddden. For example, the `__le__` method provides the less than or equal functionality. "
   ]
  },
  {
   "cell_type": "code",
   "execution_count": 34,
   "metadata": {},
   "outputs": [],
   "source": [
    "class Fraction: \n",
    "    \n",
    "    def __init__(self, top, bottom): \n",
    "        self.num = top\n",
    "        self.den = bottom\n",
    "\n",
    "    def __str__(self): \n",
    "        return str(self.num)+\"/\"+str(self.den)\n",
    "    \n",
    "    def __add__(self, otherfraction): \n",
    "        newnum = self.num*otherfraction.den + self.den*otherfraction.num\n",
    "        newden = self.den*otherfraction.den\n",
    "        common = gcd(newnum, newden)\n",
    "        return Fraction(newnum//common, newden//common)\n",
    "    \n",
    "    def __eq__(self, other): \n",
    "        firstnum = self.num*other.den\n",
    "        secondnum = other.num*self.den\n",
    "        return firstnum == secondnum"
   ]
  },
  {
   "cell_type": "code",
   "execution_count": 35,
   "metadata": {},
   "outputs": [
    {
     "name": "stdout",
     "output_type": "stream",
     "text": [
      "7/6\n",
      "False\n"
     ]
    }
   ],
   "source": [
    "x = Fraction(1,2)\n",
    "y = Fraction(2,3)\n",
    "print(x+y)\n",
    "print(x == y)"
   ]
  },
  {
   "cell_type": "markdown",
   "metadata": {},
   "source": [
    "**Self Check**\n",
    "\n",
    "Write some methods to implement `*, /, ` and `-`. Also comparison operators `>` and `<`. "
   ]
  },
  {
   "cell_type": "code",
   "execution_count": 43,
   "metadata": {},
   "outputs": [],
   "source": [
    "class Fraction: \n",
    "    \n",
    "    def __init__(self, top, bottom): \n",
    "        self.num = top\n",
    "        self.den = bottom\n",
    "\n",
    "    def __str__(self): \n",
    "        return str(self.num)+\"/\"+str(self.den)\n",
    "    \n",
    "    def __add__(self, other): \n",
    "        newnum = self.num*other.den + self.den*other.num\n",
    "        newden = self.den*other.den\n",
    "        common = gcd(newnum, newden)\n",
    "        return Fraction(newnum//common, newden//common)\n",
    "    \n",
    "    def __eq__(self, other): \n",
    "        firstnum = self.num*other.den\n",
    "        secondnum = other.num*self.den\n",
    "        return firstnum == secondnum\n",
    "    \n",
    "    def __mul__(self, other): \n",
    "        newnum = self.num*other.num\n",
    "        newden = self.den*other.den\n",
    "        common = gcd(newnum, newden)\n",
    "        return Fraction(newnum//common, newden//common)\n",
    "    \n",
    "    def __truediv__(self, other): \n",
    "        if other.num == 0 and other.den == 0: \n",
    "            raise ValueError(\"The divisor cannot be 0. \")\n",
    "        else: \n",
    "            newnum = self.num*other.den\n",
    "            newden = other.num*self.den\n",
    "            common = gcd(newnum, newden)\n",
    "            return Fraction(newnum//common, newden//common)\n",
    "        \n",
    "    def __sub__(self, other): \n",
    "        newnum = self.num*other.den - self.den*other.num\n",
    "        newden = self.den*other.den\n",
    "        common = gcd(newnum, newden)\n",
    "        return Fraction(newnum//common, newden//common)\n",
    "    \n",
    "    def __lt__(self, other): \n",
    "        firstnum = self.num*other.den\n",
    "        secondnum = other.num*self.den\n",
    "        return firstnum < secondnum\n",
    "    \n",
    "    def __gt__(self, other): \n",
    "        firstnum = self.num*other.den\n",
    "        secondnum = other.num*self.den\n",
    "        return firstnum > secondnum"
   ]
  },
  {
   "cell_type": "code",
   "execution_count": 44,
   "metadata": {},
   "outputs": [
    {
     "name": "stdout",
     "output_type": "stream",
     "text": [
      "-1/6\n",
      "1/3\n",
      "3/4\n",
      "True\n",
      "False\n"
     ]
    }
   ],
   "source": [
    "x = Fraction(1,2)\n",
    "y = Fraction(2,3)\n",
    "print(x-y)\n",
    "print(x*y)\n",
    "print(x/y)\n",
    "print(x<y)\n",
    "print(x>y)"
   ]
  },
  {
   "cell_type": "markdown",
   "metadata": {},
   "source": [
    "### 1.13.2 Inheritance: Logic Gates and Circuits"
   ]
  },
  {
   "cell_type": "markdown",
   "metadata": {},
   "source": [
    "**Inheritance**\n",
    "* Definition: the ability for one class to be related to another class in much the same way that people can be related to one another. Python child classes can inherit characteristic data and behavior from a parent class. These classes are often referred to as **subclasses** and **superclasses**.\n",
    "* Inheritance hierarchy: relationship structure among classes\n",
    "    - Sequential Collections (parent): list, string, tuple (child); lists inherit important characteristics from sequences; children all gain from their parents but distinguish themselves by adding additional characteristics. \n",
    "    - Non-sequential Collections: dictionary\n",
    "* Example: simulation, an application to simulate digital cicuits. \n",
    "    - Basic building block: logic gate: AND, OR, NOT\n",
    "    - Logic Gate: 1) Has a label for identification; 2) A single output line; 3) methods to allow a user of a gate to ask the gate for its label. \n",
    "        - Binary Gate: 2 input lines (pins)\n",
    "            - AND\n",
    "            - OR\n",
    "        - Unary Gate: 1 input line (pins)\n",
    "            - NOT"
   ]
  },
  {
   "cell_type": "code",
   "execution_count": 45,
   "metadata": {},
   "outputs": [],
   "source": [
    "class LogicGate: \n",
    "    \n",
    "    def __init__(self, n): \n",
    "        self.label = n\n",
    "        self.output = None\n",
    "    \n",
    "    def getLabel(self): \n",
    "        return self.label\n",
    "    \n",
    "    def getOutput(self): \n",
    "        self.output = self.performGateLogic()\n",
    "        return self.output"
   ]
  },
  {
   "cell_type": "code",
   "execution_count": 46,
   "metadata": {},
   "outputs": [],
   "source": [
    "class BinaryGate(LogicGate): \n",
    "    \n",
    "    def __init__(self, n): \n",
    "        LogicGate.__init__(self, n) # Call parent\n",
    "        \n",
    "        self.pinA = None\n",
    "        self.pinB = None\n",
    "    \n",
    "    def getPinA(self): \n",
    "        return int(input(\"Enter Pin A input for gate \"+self.getLabel()+\"-->\"))\n",
    "    \n",
    "    def getPinB(self): \n",
    "        return int(input(\"Enter Pin B input for gate \"+self.getLabel()+\"-->\"))"
   ]
  },
  {
   "cell_type": "code",
   "execution_count": 47,
   "metadata": {},
   "outputs": [],
   "source": [
    "class UnaryGate(LogicGate): \n",
    "    \n",
    "    def __init__(self, n): \n",
    "        LogicGate.__init__(self, n) # Call parent\n",
    "        \n",
    "        self.pin = None\n",
    "        \n",
    "    def getPin(self): \n",
    "        return int(input(\"Enter Pin input for gate \"+self.getLabel()+\"-->\"))"
   ]
  },
  {
   "cell_type": "markdown",
   "metadata": {},
   "source": [
    "`super`: a function which can be used in place of explicitly naming the parent class. This is a more general mechanism and is widely used, espectially when a class has more than one parent. `LogicGate.__init__(self, n)` can be replaced with `super(UnaryGate,self).__init__(n)`. "
   ]
  },
  {
   "cell_type": "markdown",
   "metadata": {},
   "source": [
    "Define `AndGate`"
   ]
  },
  {
   "cell_type": "code",
   "execution_count": 65,
   "metadata": {},
   "outputs": [],
   "source": [
    "class AndGate(BinaryGate): \n",
    "    \n",
    "    def __init__(self, n): \n",
    "        super(AndGate, self).__init__(n)\n",
    "        \n",
    "    def performGateLogic(self): \n",
    "        \n",
    "        a = self.getPinA()\n",
    "        b = self.getPinB()\n",
    "        \n",
    "        if a == 1 and b == 1: \n",
    "            return 1\n",
    "        else: \n",
    "            return 0"
   ]
  },
  {
   "cell_type": "code",
   "execution_count": 66,
   "metadata": {},
   "outputs": [],
   "source": [
    "class OrGate(BinaryGate): \n",
    "    \n",
    "    def __init__(self, n): \n",
    "        super(OrGate, self).__init__(n)\n",
    "        \n",
    "    def performGateLogic(self): \n",
    "        \n",
    "        a = self.getPinA()\n",
    "        b = self.getPinB()\n",
    "        \n",
    "        if a == 0 and b == 0: \n",
    "            return 0\n",
    "        else: \n",
    "            return 1"
   ]
  },
  {
   "cell_type": "code",
   "execution_count": 70,
   "metadata": {},
   "outputs": [],
   "source": [
    "class NotGate(UnaryGate): \n",
    "    \n",
    "    def __init__(self, n): \n",
    "        super(NotGate, self).__init__(n)\n",
    "        \n",
    "    def performGateLogic(self): \n",
    "        \n",
    "        p = self.getPin()\n",
    "        \n",
    "        return 1-p"
   ]
  },
  {
   "cell_type": "code",
   "execution_count": 51,
   "metadata": {},
   "outputs": [
    {
     "name": "stdout",
     "output_type": "stream",
     "text": [
      "Enter Pin A input for gate G1-->1\n",
      "Enter Pin B input for gate G1-->0\n"
     ]
    },
    {
     "data": {
      "text/plain": [
       "0"
      ]
     },
     "execution_count": 51,
     "metadata": {},
     "output_type": "execute_result"
    }
   ],
   "source": [
    "g1 = AndGate(\"G1\")\n",
    "g1.getOutput()"
   ]
  },
  {
   "cell_type": "code",
   "execution_count": 53,
   "metadata": {},
   "outputs": [
    {
     "name": "stdout",
     "output_type": "stream",
     "text": [
      "Enter Pin A input for gate G2-->1\n",
      "Enter Pin B input for gate G2-->1\n"
     ]
    },
    {
     "data": {
      "text/plain": [
       "1"
      ]
     },
     "execution_count": 53,
     "metadata": {},
     "output_type": "execute_result"
    }
   ],
   "source": [
    "g2 = OrGate(\"G2\")\n",
    "g2.getOutput()"
   ]
  },
  {
   "cell_type": "code",
   "execution_count": 54,
   "metadata": {},
   "outputs": [
    {
     "name": "stdout",
     "output_type": "stream",
     "text": [
      "Enter Pin A input for gate G2-->0\n",
      "Enter Pin B input for gate G2-->0\n"
     ]
    },
    {
     "data": {
      "text/plain": [
       "0"
      ]
     },
     "execution_count": 54,
     "metadata": {},
     "output_type": "execute_result"
    }
   ],
   "source": [
    "g2 = OrGate(\"G2\")\n",
    "g2.getOutput()"
   ]
  },
  {
   "cell_type": "code",
   "execution_count": 57,
   "metadata": {},
   "outputs": [
    {
     "name": "stdout",
     "output_type": "stream",
     "text": [
      "Enter Pin input for gate G3-->0\n"
     ]
    },
    {
     "data": {
      "text/plain": [
       "1"
      ]
     },
     "execution_count": 57,
     "metadata": {},
     "output_type": "execute_result"
    }
   ],
   "source": [
    "g3 = NotGate(\"G3\")\n",
    "g3.getOutput()"
   ]
  },
  {
   "cell_type": "markdown",
   "metadata": {},
   "source": [
    "**Building circuits**\n",
    "\n",
    "`Connector`: use the gate hierarchy in that each connector will have two gates, one on either end. \n",
    "* HAS-A Relationship: `Connector` HAS-A `LogicGate`-> connectors will have instances of the logicgate within them but are not part of the hierarchy. IS-A requires inheritance but HAS-A with no inheritance. \n",
    "* Two gate instances: \n",
    "    - `fromgate`\n",
    "    - `togate`\n",
    "* `setNextPin`: making connections, each `togate` can choose the proper input line for the connection. Add in `BinaryGate` class, the connector must be connected to only one line. If both of them are available, choose `pinA` by default; if `pinA` is already connected, then choose `pinB`; not possible to connect to a gate with no available input lines. "
   ]
  },
  {
   "cell_type": "code",
   "execution_count": 67,
   "metadata": {},
   "outputs": [],
   "source": [
    "class Connector: \n",
    "    \n",
    "    def __init__(self, fgate, tgate): \n",
    "        self.fromgate = fgate\n",
    "        self.togate = tgate\n",
    "        \n",
    "        tgate.setNextPin(self)\n",
    "    \n",
    "    def getFrom(self): \n",
    "        return self.fromgate\n",
    "    \n",
    "    def getTo(self): \n",
    "        return self.togate"
   ]
  },
  {
   "cell_type": "code",
   "execution_count": 59,
   "metadata": {},
   "outputs": [],
   "source": [
    "class BinaryGate(LogicGate): \n",
    "    \n",
    "    def __init__(self, n): \n",
    "        LogicGate.__init__(self, n) # Call parent\n",
    "        \n",
    "        self.pinA = None\n",
    "        self.pinB = None\n",
    "    \n",
    "    def getPinA(self): \n",
    "        if self.pinA == None: \n",
    "            return int(input(\"Enter Pin A input for gate \"+self.getLabel()+\"-->\"))\n",
    "        else: \n",
    "            return self.pinA.getFrom().getOutput()\n",
    "    \n",
    "    def getPinB(self): \n",
    "        if self.pinB == None: \n",
    "            return int(input(\"Enter Pin B input for gate \"+self.getLabel()+\"-->\"))\n",
    "        else: \n",
    "            return self.pinB.getFrom().getOutput()\n",
    "        \n",
    "    def setNextPin(self, source): \n",
    "        if self.pinA == None: \n",
    "            self.pinA = source\n",
    "        else: \n",
    "            if self.pinB == None: \n",
    "                self.pinB = source\n",
    "            else: \n",
    "                raise RuntimeError(\"Error: NO EMPTY PINS\")"
   ]
  },
  {
   "cell_type": "code",
   "execution_count": 69,
   "metadata": {},
   "outputs": [],
   "source": [
    "class UnaryGate(LogicGate): \n",
    "    \n",
    "    def __init__(self, n): \n",
    "        LogicGate.__init__(self, n) # Call parent\n",
    "        \n",
    "        self.pin = None\n",
    "        \n",
    "    def getPin(self): \n",
    "        return int(input(\"Enter Pin input for gate \"+self.getLabel()+\"-->\"))\n",
    "    \n",
    "    def setNextPin(self, source): \n",
    "        if self.pin == None: \n",
    "            self.pin = source\n",
    "        else: \n",
    "            raise RuntimeError(\"Error:NO EMPTY PINS\")"
   ]
  },
  {
   "cell_type": "code",
   "execution_count": 71,
   "metadata": {
    "scrolled": true
   },
   "outputs": [],
   "source": [
    "g1 = AndGate(\"G1\")\n",
    "g2 = AndGate(\"G2\")\n",
    "g3 = OrGate(\"G3\")\n",
    "g4 = NotGate(\"G4\")\n",
    "c1 = Connector(g1,g3)\n",
    "c2 = Connector(g2,g3)\n",
    "c3 = Connector(g3,g4)"
   ]
  },
  {
   "cell_type": "markdown",
   "metadata": {},
   "source": [
    "**Self Check**\n",
    "\n",
    "2 new gate classes: \n",
    "* NorGate\n",
    "* NandGate"
   ]
  },
  {
   "cell_type": "code",
   "execution_count": 73,
   "metadata": {},
   "outputs": [],
   "source": [
    "class NandGate(AndGate): \n",
    "    \n",
    "    def performGateLogic(self): \n",
    "        if super().performGateLogic() == 1:  # Super(): a proxy object of parent\n",
    "            return 0\n",
    "        else: \n",
    "            return 1"
   ]
  },
  {
   "cell_type": "code",
   "execution_count": 74,
   "metadata": {},
   "outputs": [],
   "source": [
    "class NorGate(OrGate): \n",
    "    \n",
    "    def performGateLogic(self): \n",
    "        if super().performGateLogic() == 1: \n",
    "            return 0\n",
    "        else: \n",
    "            return 1"
   ]
  },
  {
   "cell_type": "code",
   "execution_count": null,
   "metadata": {},
   "outputs": [],
   "source": [
    "def main(): \n",
    "    g1 = AndGate(\"G1\")\n",
    "    print(g1.getOutput())\n",
    "    \n",
    "main()"
   ]
  }
 ],
 "metadata": {
  "kernelspec": {
   "display_name": "Python 3",
   "language": "python",
   "name": "python3"
  },
  "language_info": {
   "codemirror_mode": {
    "name": "ipython",
    "version": 3
   },
   "file_extension": ".py",
   "mimetype": "text/x-python",
   "name": "python",
   "nbconvert_exporter": "python",
   "pygments_lexer": "ipython3",
   "version": "3.7.0"
  }
 },
 "nbformat": 4,
 "nbformat_minor": 2
}
